{
 "cells": [
  {
   "cell_type": "markdown",
   "metadata": {},
   "source": [
    "## RQ1:  How prevalent are refactorings in data access classes?"
   ]
  },
  {
   "cell_type": "code",
   "execution_count": 2,
   "metadata": {},
   "outputs": [],
   "source": [
    "import pandas as pd\n",
    "import subprocess\n",
    "import json"
   ]
  },
  {
   "cell_type": "code",
   "execution_count": 3,
   "metadata": {},
   "outputs": [],
   "source": [
    "#load the core data-set\n",
    "data=pd.read_csv(\"../data/refactorings.csv\",sep=\"$\")"
   ]
  },
  {
   "cell_type": "code",
   "execution_count": 4,
   "metadata": {},
   "outputs": [
    {
     "data": {
      "text/html": [
       "<div>\n",
       "<style scoped>\n",
       "    .dataframe tbody tr th:only-of-type {\n",
       "        vertical-align: middle;\n",
       "    }\n",
       "\n",
       "    .dataframe tbody tr th {\n",
       "        vertical-align: top;\n",
       "    }\n",
       "\n",
       "    .dataframe thead th {\n",
       "        text-align: right;\n",
       "    }\n",
       "</style>\n",
       "<table border=\"1\" class=\"dataframe\">\n",
       "  <thead>\n",
       "    <tr style=\"text-align: right;\">\n",
       "      <th></th>\n",
       "      <th>repo</th>\n",
       "      <th>sha</th>\n",
       "      <th>ref_id</th>\n",
       "      <th>ref_type</th>\n",
       "      <th>key</th>\n",
       "      <th>ref_desc</th>\n",
       "      <th>file_name</th>\n",
       "      <th>method_lines</th>\n",
       "      <th>lines</th>\n",
       "      <th>is_dac</th>\n",
       "    </tr>\n",
       "  </thead>\n",
       "  <tbody>\n",
       "    <tr>\n",
       "      <th>0</th>\n",
       "      <td>oltpbenchmark_oltpbench</td>\n",
       "      <td>19d4727d8babaf165eebb20ffdc537253006c074</td>\n",
       "      <td>oltpbench-19d4727d8babaf165eebb20ffdc537253006...</td>\n",
       "      <td>Change Variable Type</td>\n",
       "      <td>b'wRYepah0BkPqrFALJFQ9h4sNbEJfeQfzxaTojPNF_cM='</td>\n",
       "      <td>b'gAAAAABg7M2-hxuiQKHyBRqmoCnulgCfDbyc_U6LDZOG...</td>\n",
       "      <td>['src/com/oltpbenchmark/api/Worker.java']</td>\n",
       "      <td>[(355, 555)]</td>\n",
       "      <td>[(509, 509)]</td>\n",
       "      <td>False</td>\n",
       "    </tr>\n",
       "    <tr>\n",
       "      <th>1</th>\n",
       "      <td>oltpbenchmark_oltpbench</td>\n",
       "      <td>8e251e50ce7d1ae3671160ebc2d83cf433e6d1cf</td>\n",
       "      <td>oltpbench-8e251e50ce7d1ae3671160ebc2d83cf433e6...</td>\n",
       "      <td>Change Return Type</td>\n",
       "      <td>b'wRYepah0BkPqrFALJFQ9h4sNbEJfeQfzxaTojPNF_cM='</td>\n",
       "      <td>b'gAAAAABg7M2-8LGoiRXD4NEOIeygs8uTa7Tez0cyz-P5...</td>\n",
       "      <td>['src/com/oltpbenchmark/DistributionStatistics...</td>\n",
       "      <td>[(166, 178)]</td>\n",
       "      <td>[(166, 166)]</td>\n",
       "      <td>False</td>\n",
       "    </tr>\n",
       "    <tr>\n",
       "      <th>2</th>\n",
       "      <td>oltpbenchmark_oltpbench</td>\n",
       "      <td>8e251e50ce7d1ae3671160ebc2d83cf433e6d1cf</td>\n",
       "      <td>oltpbench-8e251e50ce7d1ae3671160ebc2d83cf433e6...</td>\n",
       "      <td>Change Variable Type</td>\n",
       "      <td>b'wRYepah0BkPqrFALJFQ9h4sNbEJfeQfzxaTojPNF_cM='</td>\n",
       "      <td>b'gAAAAABg7M2-EXml1THsvNwS9Qg4i1sAIswpiVo7tK5h...</td>\n",
       "      <td>['src/com/oltpbenchmark/DistributionStatistics...</td>\n",
       "      <td>[(166, 178)]</td>\n",
       "      <td>[(167, 167)]</td>\n",
       "      <td>False</td>\n",
       "    </tr>\n",
       "    <tr>\n",
       "      <th>3</th>\n",
       "      <td>oltpbenchmark_oltpbench</td>\n",
       "      <td>d97a34c952f90de191d76ab5efaf32860d58b1f7</td>\n",
       "      <td>oltpbench-d97a34c952f90de191d76ab5efaf32860d58...</td>\n",
       "      <td>Encapsulate Attribute</td>\n",
       "      <td>b'wRYepah0BkPqrFALJFQ9h4sNbEJfeQfzxaTojPNF_cM='</td>\n",
       "      <td>b'gAAAAABg7M2-K9VVgaBV-FC3mUMD5lPCt0CXN-y3L_dU...</td>\n",
       "      <td>['src/com/oltpbenchmark/api/Loader.java']</td>\n",
       "      <td>[(81, 83)]</td>\n",
       "      <td>[(53, 53)]</td>\n",
       "      <td>True</td>\n",
       "    </tr>\n",
       "    <tr>\n",
       "      <th>4</th>\n",
       "      <td>oltpbenchmark_oltpbench</td>\n",
       "      <td>d77e70c06216df2e8f9f3948dc6c731e969a68fc</td>\n",
       "      <td>oltpbench-d77e70c06216df2e8f9f3948dc6c731e969a...</td>\n",
       "      <td>Change Return Type</td>\n",
       "      <td>b'wRYepah0BkPqrFALJFQ9h4sNbEJfeQfzxaTojPNF_cM='</td>\n",
       "      <td>b'gAAAAABg7M2-VSqXqnQgoA2r-DQo_BNdHFWL3yxlftLa...</td>\n",
       "      <td>['src/com/oltpbenchmark/DBWorkload.java']</td>\n",
       "      <td>[(602, 631)]</td>\n",
       "      <td>[(602, 602)]</td>\n",
       "      <td>False</td>\n",
       "    </tr>\n",
       "  </tbody>\n",
       "</table>\n",
       "</div>"
      ],
      "text/plain": [
       "                      repo                                       sha  \\\n",
       "0  oltpbenchmark_oltpbench  19d4727d8babaf165eebb20ffdc537253006c074   \n",
       "1  oltpbenchmark_oltpbench  8e251e50ce7d1ae3671160ebc2d83cf433e6d1cf   \n",
       "2  oltpbenchmark_oltpbench  8e251e50ce7d1ae3671160ebc2d83cf433e6d1cf   \n",
       "3  oltpbenchmark_oltpbench  d97a34c952f90de191d76ab5efaf32860d58b1f7   \n",
       "4  oltpbenchmark_oltpbench  d77e70c06216df2e8f9f3948dc6c731e969a68fc   \n",
       "\n",
       "                                              ref_id               ref_type  \\\n",
       "0  oltpbench-19d4727d8babaf165eebb20ffdc537253006...   Change Variable Type   \n",
       "1  oltpbench-8e251e50ce7d1ae3671160ebc2d83cf433e6...     Change Return Type   \n",
       "2  oltpbench-8e251e50ce7d1ae3671160ebc2d83cf433e6...   Change Variable Type   \n",
       "3  oltpbench-d97a34c952f90de191d76ab5efaf32860d58...  Encapsulate Attribute   \n",
       "4  oltpbench-d77e70c06216df2e8f9f3948dc6c731e969a...     Change Return Type   \n",
       "\n",
       "                                               key  \\\n",
       "0  b'wRYepah0BkPqrFALJFQ9h4sNbEJfeQfzxaTojPNF_cM='   \n",
       "1  b'wRYepah0BkPqrFALJFQ9h4sNbEJfeQfzxaTojPNF_cM='   \n",
       "2  b'wRYepah0BkPqrFALJFQ9h4sNbEJfeQfzxaTojPNF_cM='   \n",
       "3  b'wRYepah0BkPqrFALJFQ9h4sNbEJfeQfzxaTojPNF_cM='   \n",
       "4  b'wRYepah0BkPqrFALJFQ9h4sNbEJfeQfzxaTojPNF_cM='   \n",
       "\n",
       "                                            ref_desc  \\\n",
       "0  b'gAAAAABg7M2-hxuiQKHyBRqmoCnulgCfDbyc_U6LDZOG...   \n",
       "1  b'gAAAAABg7M2-8LGoiRXD4NEOIeygs8uTa7Tez0cyz-P5...   \n",
       "2  b'gAAAAABg7M2-EXml1THsvNwS9Qg4i1sAIswpiVo7tK5h...   \n",
       "3  b'gAAAAABg7M2-K9VVgaBV-FC3mUMD5lPCt0CXN-y3L_dU...   \n",
       "4  b'gAAAAABg7M2-VSqXqnQgoA2r-DQo_BNdHFWL3yxlftLa...   \n",
       "\n",
       "                                           file_name  method_lines  \\\n",
       "0          ['src/com/oltpbenchmark/api/Worker.java']  [(355, 555)]   \n",
       "1  ['src/com/oltpbenchmark/DistributionStatistics...  [(166, 178)]   \n",
       "2  ['src/com/oltpbenchmark/DistributionStatistics...  [(166, 178)]   \n",
       "3          ['src/com/oltpbenchmark/api/Loader.java']    [(81, 83)]   \n",
       "4          ['src/com/oltpbenchmark/DBWorkload.java']  [(602, 631)]   \n",
       "\n",
       "          lines  is_dac  \n",
       "0  [(509, 509)]   False  \n",
       "1  [(166, 166)]   False  \n",
       "2  [(167, 167)]   False  \n",
       "3    [(53, 53)]    True  \n",
       "4  [(602, 602)]   False  "
      ]
     },
     "execution_count": 4,
     "metadata": {},
     "output_type": "execute_result"
    }
   ],
   "source": [
    "data.head()"
   ]
  },
  {
   "cell_type": "code",
   "execution_count": 6,
   "metadata": {},
   "outputs": [
    {
     "data": {
      "text/plain": [
       "Index(['repo', 'sha', 'ref_id', 'ref_type', 'key', 'ref_desc', 'file_name',\n",
       "       'method_lines', 'lines', 'is_dac'],\n",
       "      dtype='object')"
      ]
     },
     "execution_count": 6,
     "metadata": {},
     "output_type": "execute_result"
    }
   ],
   "source": [
    "data.columns"
   ]
  },
  {
   "cell_type": "code",
   "execution_count": 7,
   "metadata": {},
   "outputs": [
    {
     "data": {
      "text/plain": [
       "<bound method GroupBy.size of <pandas.core.groupby.generic.DataFrameGroupBy object at 0x7f5dfdd11d00>>"
      ]
     },
     "execution_count": 7,
     "metadata": {},
     "output_type": "execute_result"
    }
   ],
   "source": [
    "#get the number of refactorings per project\n",
    "data.groupby(by='repo').size"
   ]
  },
  {
   "cell_type": "code",
   "execution_count": 21,
   "metadata": {},
   "outputs": [
    {
     "data": {
      "text/plain": [
       "0.7639026481041935"
      ]
     },
     "execution_count": 21,
     "metadata": {},
     "output_type": "execute_result"
    }
   ],
   "source": [
    "(18892*100)/len(data.index)"
   ]
  },
  {
   "cell_type": "code",
   "execution_count": 8,
   "metadata": {},
   "outputs": [
    {
     "data": {
      "text/html": [
       "<div>\n",
       "<style scoped>\n",
       "    .dataframe tbody tr th:only-of-type {\n",
       "        vertical-align: middle;\n",
       "    }\n",
       "\n",
       "    .dataframe tbody tr th {\n",
       "        vertical-align: top;\n",
       "    }\n",
       "\n",
       "    .dataframe thead th {\n",
       "        text-align: right;\n",
       "    }\n",
       "</style>\n",
       "<table border=\"1\" class=\"dataframe\">\n",
       "  <thead>\n",
       "    <tr style=\"text-align: right;\">\n",
       "      <th></th>\n",
       "      <th>repo</th>\n",
       "      <th>sha</th>\n",
       "      <th>ref_id</th>\n",
       "      <th>ref_type</th>\n",
       "      <th>file_name</th>\n",
       "      <th>is_dac</th>\n",
       "    </tr>\n",
       "  </thead>\n",
       "  <tbody>\n",
       "    <tr>\n",
       "      <th>0</th>\n",
       "      <td>oltpbenchmark_oltpbench</td>\n",
       "      <td>19d4727d8babaf165eebb20ffdc537253006c074</td>\n",
       "      <td>oltpbench-19d4727d8babaf165eebb20ffdc537253006...</td>\n",
       "      <td>Change Variable Type</td>\n",
       "      <td>['src/com/oltpbenchmark/api/Worker.java']</td>\n",
       "      <td>False</td>\n",
       "    </tr>\n",
       "    <tr>\n",
       "      <th>1</th>\n",
       "      <td>oltpbenchmark_oltpbench</td>\n",
       "      <td>8e251e50ce7d1ae3671160ebc2d83cf433e6d1cf</td>\n",
       "      <td>oltpbench-8e251e50ce7d1ae3671160ebc2d83cf433e6...</td>\n",
       "      <td>Change Return Type</td>\n",
       "      <td>['src/com/oltpbenchmark/DistributionStatistics...</td>\n",
       "      <td>False</td>\n",
       "    </tr>\n",
       "    <tr>\n",
       "      <th>2</th>\n",
       "      <td>oltpbenchmark_oltpbench</td>\n",
       "      <td>8e251e50ce7d1ae3671160ebc2d83cf433e6d1cf</td>\n",
       "      <td>oltpbench-8e251e50ce7d1ae3671160ebc2d83cf433e6...</td>\n",
       "      <td>Change Variable Type</td>\n",
       "      <td>['src/com/oltpbenchmark/DistributionStatistics...</td>\n",
       "      <td>False</td>\n",
       "    </tr>\n",
       "    <tr>\n",
       "      <th>3</th>\n",
       "      <td>oltpbenchmark_oltpbench</td>\n",
       "      <td>d97a34c952f90de191d76ab5efaf32860d58b1f7</td>\n",
       "      <td>oltpbench-d97a34c952f90de191d76ab5efaf32860d58...</td>\n",
       "      <td>Encapsulate Attribute</td>\n",
       "      <td>['src/com/oltpbenchmark/api/Loader.java']</td>\n",
       "      <td>True</td>\n",
       "    </tr>\n",
       "    <tr>\n",
       "      <th>4</th>\n",
       "      <td>oltpbenchmark_oltpbench</td>\n",
       "      <td>d77e70c06216df2e8f9f3948dc6c731e969a68fc</td>\n",
       "      <td>oltpbench-d77e70c06216df2e8f9f3948dc6c731e969a...</td>\n",
       "      <td>Change Return Type</td>\n",
       "      <td>['src/com/oltpbenchmark/DBWorkload.java']</td>\n",
       "      <td>False</td>\n",
       "    </tr>\n",
       "  </tbody>\n",
       "</table>\n",
       "</div>"
      ],
      "text/plain": [
       "                      repo                                       sha  \\\n",
       "0  oltpbenchmark_oltpbench  19d4727d8babaf165eebb20ffdc537253006c074   \n",
       "1  oltpbenchmark_oltpbench  8e251e50ce7d1ae3671160ebc2d83cf433e6d1cf   \n",
       "2  oltpbenchmark_oltpbench  8e251e50ce7d1ae3671160ebc2d83cf433e6d1cf   \n",
       "3  oltpbenchmark_oltpbench  d97a34c952f90de191d76ab5efaf32860d58b1f7   \n",
       "4  oltpbenchmark_oltpbench  d77e70c06216df2e8f9f3948dc6c731e969a68fc   \n",
       "\n",
       "                                              ref_id               ref_type  \\\n",
       "0  oltpbench-19d4727d8babaf165eebb20ffdc537253006...   Change Variable Type   \n",
       "1  oltpbench-8e251e50ce7d1ae3671160ebc2d83cf433e6...     Change Return Type   \n",
       "2  oltpbench-8e251e50ce7d1ae3671160ebc2d83cf433e6...   Change Variable Type   \n",
       "3  oltpbench-d97a34c952f90de191d76ab5efaf32860d58...  Encapsulate Attribute   \n",
       "4  oltpbench-d77e70c06216df2e8f9f3948dc6c731e969a...     Change Return Type   \n",
       "\n",
       "                                           file_name  is_dac  \n",
       "0          ['src/com/oltpbenchmark/api/Worker.java']   False  \n",
       "1  ['src/com/oltpbenchmark/DistributionStatistics...   False  \n",
       "2  ['src/com/oltpbenchmark/DistributionStatistics...   False  \n",
       "3          ['src/com/oltpbenchmark/api/Loader.java']    True  \n",
       "4          ['src/com/oltpbenchmark/DBWorkload.java']   False  "
      ]
     },
     "execution_count": 8,
     "metadata": {},
     "output_type": "execute_result"
    }
   ],
   "source": [
    "#select subset \n",
    "\n",
    "rq1data=data.drop(columns=[ 'key', 'ref_desc','method_lines', 'lines'])\n",
    "rq1data.head()"
   ]
  },
  {
   "cell_type": "code",
   "execution_count": 9,
   "metadata": {},
   "outputs": [
    {
     "data": {
      "text/plain": [
       "['src/com/oltpbenchmark/api/Worker.java']"
      ]
     },
     "execution_count": 9,
     "metadata": {},
     "output_type": "execute_result"
    }
   ],
   "source": [
    "#evaluate the list of file Names\n",
    "rq1data[\"file_name\"]=rq1data[\"file_name\"].apply(eval)\n",
    "rq1data[\"file_name\"].tolist()[0]"
   ]
  },
  {
   "cell_type": "markdown",
   "metadata": {},
   "source": [
    "# Task 1: summary of refactoring types on DAC and regular classes"
   ]
  },
  {
   "cell_type": "code",
   "execution_count": 10,
   "metadata": {},
   "outputs": [
    {
     "name": "stdout",
     "output_type": "stream",
     "text": [
      "Length of dac: 18892\n",
      "Length of regular: 2454198\n"
     ]
    }
   ],
   "source": [
    "dac=rq1data[rq1data[\"is_dac\"]==True]\n",
    "regular=rq1data[rq1data[\"is_dac\"]==False]\n",
    "total_dac=len(dac.index)\n",
    "total_reg=len(regular.index)\n",
    "print(\"Length of dac: {}\".format(total_dac))\n",
    "print(\"Length of regular: {}\".format(total_reg))"
   ]
  },
  {
   "cell_type": "code",
   "execution_count": 11,
   "metadata": {},
   "outputs": [],
   "source": [
    "dac_ref_counts=dac.groupby(by=[\"ref_type\"]).count().sort_values(by=\"ref_id\", ascending=False)\n",
    "reg_ref_counts=regular.groupby(by=[\"ref_type\"]).count().sort_values(by=\"ref_id\", ascending=False)"
   ]
  },
  {
   "cell_type": "code",
   "execution_count": 12,
   "metadata": {},
   "outputs": [],
   "source": [
    "def compute_percentage(count,total):\n",
    "    return count*100/total"
   ]
  },
  {
   "cell_type": "code",
   "execution_count": 13,
   "metadata": {},
   "outputs": [],
   "source": [
    "\n",
    "dac_ref_counts['Refactoring Type'] = dac_ref_counts.index\n",
    "dac_ref_counts=dac_ref_counts[[\"Refactoring Type\",\"ref_id\"]]\n",
    "dac_ref_counts.columns=['Refactoring Type', 'count']"
   ]
  },
  {
   "cell_type": "code",
   "execution_count": 14,
   "metadata": {},
   "outputs": [],
   "source": [
    "reg_ref_counts['Refactoring Type'] = reg_ref_counts.index\n",
    "reg_ref_counts=reg_ref_counts[[\"Refactoring Type\",\"ref_id\"]]\n",
    "reg_ref_counts.columns=['Refactoring Type', 'count']"
   ]
  },
  {
   "cell_type": "code",
   "execution_count": 15,
   "metadata": {},
   "outputs": [
    {
     "data": {
      "text/html": [
       "<div>\n",
       "<style scoped>\n",
       "    .dataframe tbody tr th:only-of-type {\n",
       "        vertical-align: middle;\n",
       "    }\n",
       "\n",
       "    .dataframe tbody tr th {\n",
       "        vertical-align: top;\n",
       "    }\n",
       "\n",
       "    .dataframe thead th {\n",
       "        text-align: right;\n",
       "    }\n",
       "</style>\n",
       "<table border=\"1\" class=\"dataframe\">\n",
       "  <thead>\n",
       "    <tr style=\"text-align: right;\">\n",
       "      <th></th>\n",
       "      <th>Refactoring Type</th>\n",
       "      <th>count</th>\n",
       "      <th>percentage</th>\n",
       "    </tr>\n",
       "    <tr>\n",
       "      <th>ref_type</th>\n",
       "      <th></th>\n",
       "      <th></th>\n",
       "      <th></th>\n",
       "    </tr>\n",
       "  </thead>\n",
       "  <tbody>\n",
       "    <tr>\n",
       "      <th>Rename Variable</th>\n",
       "      <td>Rename Variable</td>\n",
       "      <td>1880</td>\n",
       "      <td>9.951302</td>\n",
       "    </tr>\n",
       "    <tr>\n",
       "      <th>Change Variable Type</th>\n",
       "      <td>Change Variable Type</td>\n",
       "      <td>1539</td>\n",
       "      <td>8.146305</td>\n",
       "    </tr>\n",
       "    <tr>\n",
       "      <th>Add Parameter</th>\n",
       "      <td>Add Parameter</td>\n",
       "      <td>1119</td>\n",
       "      <td>5.923142</td>\n",
       "    </tr>\n",
       "    <tr>\n",
       "      <th>Add Parameter Modifier</th>\n",
       "      <td>Add Parameter Modifier</td>\n",
       "      <td>998</td>\n",
       "      <td>5.282659</td>\n",
       "    </tr>\n",
       "    <tr>\n",
       "      <th>Change Parameter Type</th>\n",
       "      <td>Change Parameter Type</td>\n",
       "      <td>910</td>\n",
       "      <td>4.816854</td>\n",
       "    </tr>\n",
       "    <tr>\n",
       "      <th>Rename Parameter</th>\n",
       "      <td>Rename Parameter</td>\n",
       "      <td>888</td>\n",
       "      <td>4.700402</td>\n",
       "    </tr>\n",
       "    <tr>\n",
       "      <th>Extract Method</th>\n",
       "      <td>Extract Method</td>\n",
       "      <td>887</td>\n",
       "      <td>4.695109</td>\n",
       "    </tr>\n",
       "    <tr>\n",
       "      <th>Add Method Annotation</th>\n",
       "      <td>Add Method Annotation</td>\n",
       "      <td>816</td>\n",
       "      <td>4.319289</td>\n",
       "    </tr>\n",
       "    <tr>\n",
       "      <th>Rename Method</th>\n",
       "      <td>Rename Method</td>\n",
       "      <td>705</td>\n",
       "      <td>3.731738</td>\n",
       "    </tr>\n",
       "    <tr>\n",
       "      <th>Change Method Access Modifier</th>\n",
       "      <td>Change Method Access Modifier</td>\n",
       "      <td>620</td>\n",
       "      <td>3.281812</td>\n",
       "    </tr>\n",
       "  </tbody>\n",
       "</table>\n",
       "</div>"
      ],
      "text/plain": [
       "                                            Refactoring Type  count  \\\n",
       "ref_type                                                              \n",
       "Rename Variable                              Rename Variable   1880   \n",
       "Change Variable Type                    Change Variable Type   1539   \n",
       "Add Parameter                                  Add Parameter   1119   \n",
       "Add Parameter Modifier                Add Parameter Modifier    998   \n",
       "Change Parameter Type                  Change Parameter Type    910   \n",
       "Rename Parameter                            Rename Parameter    888   \n",
       "Extract Method                                Extract Method    887   \n",
       "Add Method Annotation                  Add Method Annotation    816   \n",
       "Rename Method                                  Rename Method    705   \n",
       "Change Method Access Modifier  Change Method Access Modifier    620   \n",
       "\n",
       "                               percentage  \n",
       "ref_type                                   \n",
       "Rename Variable                  9.951302  \n",
       "Change Variable Type             8.146305  \n",
       "Add Parameter                    5.923142  \n",
       "Add Parameter Modifier           5.282659  \n",
       "Change Parameter Type            4.816854  \n",
       "Rename Parameter                 4.700402  \n",
       "Extract Method                   4.695109  \n",
       "Add Method Annotation            4.319289  \n",
       "Rename Method                    3.731738  \n",
       "Change Method Access Modifier    3.281812  "
      ]
     },
     "execution_count": 15,
     "metadata": {},
     "output_type": "execute_result"
    }
   ],
   "source": [
    "#Most prevalent refactoring Types in DAC classes\n",
    "dac_ref_counts[\"percentage\"]=dac_ref_counts[\"count\"].apply(compute_percentage, args=(total_dac,))\n",
    "dac_ref_counts_t10=dac_ref_counts.head(10)\n",
    "dac_ref_counts_t10"
   ]
  },
  {
   "cell_type": "code",
   "execution_count": 16,
   "metadata": {},
   "outputs": [],
   "source": [
    "def format_number(number):\n",
    "    return round(number,3)"
   ]
  },
  {
   "cell_type": "code",
   "execution_count": 17,
   "metadata": {},
   "outputs": [
    {
     "name": "stderr",
     "output_type": "stream",
     "text": [
      "<ipython-input-17-bacc6a1c38f8>:1: SettingWithCopyWarning: \n",
      "A value is trying to be set on a copy of a slice from a DataFrame.\n",
      "Try using .loc[row_indexer,col_indexer] = value instead\n",
      "\n",
      "See the caveats in the documentation: https://pandas.pydata.org/pandas-docs/stable/user_guide/indexing.html#returning-a-view-versus-a-copy\n",
      "  dac_ref_counts_t10[\"percentage\"]=dac_ref_counts_t10[\"percentage\"].apply(format_number)\n"
     ]
    }
   ],
   "source": [
    "dac_ref_counts_t10[\"percentage\"]=dac_ref_counts_t10[\"percentage\"].apply(format_number)"
   ]
  },
  {
   "cell_type": "code",
   "execution_count": 18,
   "metadata": {},
   "outputs": [
    {
     "name": "stdout",
     "output_type": "stream",
     "text": [
      "\\begin{tabular}{lrr}\n",
      "\\toprule\n",
      "              Refactoring Type &  count &  percentage \\\\\n",
      "               Rename Variable &   1880 &       9.951 \\\\\n",
      "\\midrule\n",
      "          Change Variable Type &   1539 &       8.146 \\\\\n",
      "                 Add Parameter &   1119 &       5.923 \\\\\n",
      "        Add Parameter Modifier &    998 &       5.283 \\\\\n",
      "         Change Parameter Type &    910 &       4.817 \\\\\n",
      "              Rename Parameter &    888 &       4.700 \\\\\n",
      "                Extract Method &    887 &       4.695 \\\\\n",
      "         Add Method Annotation &    816 &       4.319 \\\\\n",
      "                 Rename Method &    705 &       3.732 \\\\\n",
      " Change Method Access Modifier &    620 &       3.282 \\\\\n",
      "\\bottomrule\n",
      "\\end{tabular}\n",
      "\n"
     ]
    }
   ],
   "source": [
    "#get a latex table from this\n",
    "dac_t10_latex=dac_ref_counts_t10.to_latex(columns=[\"Refactoring Type\",\"count\",\"percentage\"], index=False)\n",
    "print(dac_t10_latex)"
   ]
  },
  {
   "cell_type": "code",
   "execution_count": 19,
   "metadata": {},
   "outputs": [
    {
     "data": {
      "text/html": [
       "<div>\n",
       "<style scoped>\n",
       "    .dataframe tbody tr th:only-of-type {\n",
       "        vertical-align: middle;\n",
       "    }\n",
       "\n",
       "    .dataframe tbody tr th {\n",
       "        vertical-align: top;\n",
       "    }\n",
       "\n",
       "    .dataframe thead th {\n",
       "        text-align: right;\n",
       "    }\n",
       "</style>\n",
       "<table border=\"1\" class=\"dataframe\">\n",
       "  <thead>\n",
       "    <tr style=\"text-align: right;\">\n",
       "      <th></th>\n",
       "      <th>Refactoring Type</th>\n",
       "      <th>count</th>\n",
       "      <th>percentage</th>\n",
       "    </tr>\n",
       "    <tr>\n",
       "      <th>ref_type</th>\n",
       "      <th></th>\n",
       "      <th></th>\n",
       "      <th></th>\n",
       "    </tr>\n",
       "  </thead>\n",
       "  <tbody>\n",
       "    <tr>\n",
       "      <th>Rename Variable</th>\n",
       "      <td>Rename Variable</td>\n",
       "      <td>1880</td>\n",
       "      <td>9.951</td>\n",
       "    </tr>\n",
       "    <tr>\n",
       "      <th>Change Variable Type</th>\n",
       "      <td>Change Variable Type</td>\n",
       "      <td>1539</td>\n",
       "      <td>8.146</td>\n",
       "    </tr>\n",
       "    <tr>\n",
       "      <th>Add Parameter</th>\n",
       "      <td>Add Parameter</td>\n",
       "      <td>1119</td>\n",
       "      <td>5.923</td>\n",
       "    </tr>\n",
       "    <tr>\n",
       "      <th>Add Parameter Modifier</th>\n",
       "      <td>Add Parameter Modifier</td>\n",
       "      <td>998</td>\n",
       "      <td>5.283</td>\n",
       "    </tr>\n",
       "    <tr>\n",
       "      <th>Change Parameter Type</th>\n",
       "      <td>Change Parameter Type</td>\n",
       "      <td>910</td>\n",
       "      <td>4.817</td>\n",
       "    </tr>\n",
       "    <tr>\n",
       "      <th>Rename Parameter</th>\n",
       "      <td>Rename Parameter</td>\n",
       "      <td>888</td>\n",
       "      <td>4.700</td>\n",
       "    </tr>\n",
       "    <tr>\n",
       "      <th>Extract Method</th>\n",
       "      <td>Extract Method</td>\n",
       "      <td>887</td>\n",
       "      <td>4.695</td>\n",
       "    </tr>\n",
       "    <tr>\n",
       "      <th>Add Method Annotation</th>\n",
       "      <td>Add Method Annotation</td>\n",
       "      <td>816</td>\n",
       "      <td>4.319</td>\n",
       "    </tr>\n",
       "    <tr>\n",
       "      <th>Rename Method</th>\n",
       "      <td>Rename Method</td>\n",
       "      <td>705</td>\n",
       "      <td>3.732</td>\n",
       "    </tr>\n",
       "    <tr>\n",
       "      <th>Change Method Access Modifier</th>\n",
       "      <td>Change Method Access Modifier</td>\n",
       "      <td>620</td>\n",
       "      <td>3.282</td>\n",
       "    </tr>\n",
       "  </tbody>\n",
       "</table>\n",
       "</div>"
      ],
      "text/plain": [
       "                                            Refactoring Type  count  \\\n",
       "ref_type                                                              \n",
       "Rename Variable                              Rename Variable   1880   \n",
       "Change Variable Type                    Change Variable Type   1539   \n",
       "Add Parameter                                  Add Parameter   1119   \n",
       "Add Parameter Modifier                Add Parameter Modifier    998   \n",
       "Change Parameter Type                  Change Parameter Type    910   \n",
       "Rename Parameter                            Rename Parameter    888   \n",
       "Extract Method                                Extract Method    887   \n",
       "Add Method Annotation                  Add Method Annotation    816   \n",
       "Rename Method                                  Rename Method    705   \n",
       "Change Method Access Modifier  Change Method Access Modifier    620   \n",
       "\n",
       "                               percentage  \n",
       "ref_type                                   \n",
       "Rename Variable                     9.951  \n",
       "Change Variable Type                8.146  \n",
       "Add Parameter                       5.923  \n",
       "Add Parameter Modifier              5.283  \n",
       "Change Parameter Type               4.817  \n",
       "Rename Parameter                    4.700  \n",
       "Extract Method                      4.695  \n",
       "Add Method Annotation               4.319  \n",
       "Rename Method                       3.732  \n",
       "Change Method Access Modifier       3.282  "
      ]
     },
     "execution_count": 19,
     "metadata": {},
     "output_type": "execute_result"
    }
   ],
   "source": [
    "dac_ref_counts_t10"
   ]
  },
  {
   "cell_type": "code",
   "execution_count": 20,
   "metadata": {},
   "outputs": [
    {
     "data": {
      "text/html": [
       "<div>\n",
       "<style scoped>\n",
       "    .dataframe tbody tr th:only-of-type {\n",
       "        vertical-align: middle;\n",
       "    }\n",
       "\n",
       "    .dataframe tbody tr th {\n",
       "        vertical-align: top;\n",
       "    }\n",
       "\n",
       "    .dataframe thead th {\n",
       "        text-align: right;\n",
       "    }\n",
       "</style>\n",
       "<table border=\"1\" class=\"dataframe\">\n",
       "  <thead>\n",
       "    <tr style=\"text-align: right;\">\n",
       "      <th></th>\n",
       "      <th>Refactoring Type</th>\n",
       "      <th>count</th>\n",
       "      <th>percentage</th>\n",
       "    </tr>\n",
       "    <tr>\n",
       "      <th>ref_type</th>\n",
       "      <th></th>\n",
       "      <th></th>\n",
       "      <th></th>\n",
       "    </tr>\n",
       "  </thead>\n",
       "  <tbody>\n",
       "    <tr>\n",
       "      <th>Move Attribute</th>\n",
       "      <td>Move Attribute</td>\n",
       "      <td>1470365</td>\n",
       "      <td>59.912240</td>\n",
       "    </tr>\n",
       "    <tr>\n",
       "      <th>Change Attribute Access Modifier</th>\n",
       "      <td>Change Attribute Access Modifier</td>\n",
       "      <td>600345</td>\n",
       "      <td>24.461963</td>\n",
       "    </tr>\n",
       "    <tr>\n",
       "      <th>Add Method Annotation</th>\n",
       "      <td>Add Method Annotation</td>\n",
       "      <td>26913</td>\n",
       "      <td>1.096611</td>\n",
       "    </tr>\n",
       "    <tr>\n",
       "      <th>Rename Method</th>\n",
       "      <td>Rename Method</td>\n",
       "      <td>22963</td>\n",
       "      <td>0.935662</td>\n",
       "    </tr>\n",
       "    <tr>\n",
       "      <th>Change Parameter Type</th>\n",
       "      <td>Change Parameter Type</td>\n",
       "      <td>21618</td>\n",
       "      <td>0.880858</td>\n",
       "    </tr>\n",
       "    <tr>\n",
       "      <th>Change Variable Type</th>\n",
       "      <td>Change Variable Type</td>\n",
       "      <td>21372</td>\n",
       "      <td>0.870834</td>\n",
       "    </tr>\n",
       "    <tr>\n",
       "      <th>Change Return Type</th>\n",
       "      <td>Change Return Type</td>\n",
       "      <td>19459</td>\n",
       "      <td>0.792886</td>\n",
       "    </tr>\n",
       "    <tr>\n",
       "      <th>Add Parameter</th>\n",
       "      <td>Add Parameter</td>\n",
       "      <td>18528</td>\n",
       "      <td>0.754951</td>\n",
       "    </tr>\n",
       "    <tr>\n",
       "      <th>Rename Variable</th>\n",
       "      <td>Rename Variable</td>\n",
       "      <td>18345</td>\n",
       "      <td>0.747495</td>\n",
       "    </tr>\n",
       "    <tr>\n",
       "      <th>Rename Parameter</th>\n",
       "      <td>Rename Parameter</td>\n",
       "      <td>16107</td>\n",
       "      <td>0.656304</td>\n",
       "    </tr>\n",
       "  </tbody>\n",
       "</table>\n",
       "</div>"
      ],
      "text/plain": [
       "                                                  Refactoring Type    count  \\\n",
       "ref_type                                                                      \n",
       "Move Attribute                                      Move Attribute  1470365   \n",
       "Change Attribute Access Modifier  Change Attribute Access Modifier   600345   \n",
       "Add Method Annotation                        Add Method Annotation    26913   \n",
       "Rename Method                                        Rename Method    22963   \n",
       "Change Parameter Type                        Change Parameter Type    21618   \n",
       "Change Variable Type                          Change Variable Type    21372   \n",
       "Change Return Type                              Change Return Type    19459   \n",
       "Add Parameter                                        Add Parameter    18528   \n",
       "Rename Variable                                    Rename Variable    18345   \n",
       "Rename Parameter                                  Rename Parameter    16107   \n",
       "\n",
       "                                  percentage  \n",
       "ref_type                                      \n",
       "Move Attribute                     59.912240  \n",
       "Change Attribute Access Modifier   24.461963  \n",
       "Add Method Annotation               1.096611  \n",
       "Rename Method                       0.935662  \n",
       "Change Parameter Type               0.880858  \n",
       "Change Variable Type                0.870834  \n",
       "Change Return Type                  0.792886  \n",
       "Add Parameter                       0.754951  \n",
       "Rename Variable                     0.747495  \n",
       "Rename Parameter                    0.656304  "
      ]
     },
     "execution_count": 20,
     "metadata": {},
     "output_type": "execute_result"
    }
   ],
   "source": [
    "#Most prevalent refactoring Types in regular classes\n",
    "reg_ref_counts[\"percentage\"]=reg_ref_counts[\"count\"].apply(compute_percentage, args=(total_reg,))\n",
    "reg_ref_counts_t10=reg_ref_counts.head(10)\n",
    "reg_ref_counts_t10"
   ]
  },
  {
   "cell_type": "code",
   "execution_count": 21,
   "metadata": {},
   "outputs": [
    {
     "name": "stderr",
     "output_type": "stream",
     "text": [
      "<ipython-input-21-b2bff01a49a9>:1: SettingWithCopyWarning: \n",
      "A value is trying to be set on a copy of a slice from a DataFrame.\n",
      "Try using .loc[row_indexer,col_indexer] = value instead\n",
      "\n",
      "See the caveats in the documentation: https://pandas.pydata.org/pandas-docs/stable/user_guide/indexing.html#returning-a-view-versus-a-copy\n",
      "  reg_ref_counts_t10[\"percentage\"]=reg_ref_counts_t10[\"percentage\"].apply(format_number)\n"
     ]
    }
   ],
   "source": [
    "reg_ref_counts_t10[\"percentage\"]=reg_ref_counts_t10[\"percentage\"].apply(format_number)"
   ]
  },
  {
   "cell_type": "code",
   "execution_count": 22,
   "metadata": {},
   "outputs": [
    {
     "name": "stdout",
     "output_type": "stream",
     "text": [
      "\\begin{tabular}{lrr}\n",
      "\\toprule\n",
      "                 Refactoring Type &    count &  percentage \\\\\n",
      "                   Move Attribute &  1470365 &      59.912 \\\\\n",
      "\\midrule\n",
      " Change Attribute Access Modifier &   600345 &      24.462 \\\\\n",
      "            Add Method Annotation &    26913 &       1.097 \\\\\n",
      "                    Rename Method &    22963 &       0.936 \\\\\n",
      "            Change Parameter Type &    21618 &       0.881 \\\\\n",
      "             Change Variable Type &    21372 &       0.871 \\\\\n",
      "               Change Return Type &    19459 &       0.793 \\\\\n",
      "                    Add Parameter &    18528 &       0.755 \\\\\n",
      "                  Rename Variable &    18345 &       0.747 \\\\\n",
      "                 Rename Parameter &    16107 &       0.656 \\\\\n",
      "\\bottomrule\n",
      "\\end{tabular}\n",
      "\n"
     ]
    }
   ],
   "source": [
    "#get a latex table for t10 regular\n",
    "reg_t10_latex=reg_ref_counts_t10.to_latex(columns=[\"Refactoring Type\",\"count\",\"percentage\"], index=False)\n",
    "print(reg_t10_latex)"
   ]
  },
  {
   "cell_type": "code",
   "execution_count": 27,
   "metadata": {},
   "outputs": [
    {
     "data": {
      "text/html": [
       "<div>\n",
       "<style scoped>\n",
       "    .dataframe tbody tr th:only-of-type {\n",
       "        vertical-align: middle;\n",
       "    }\n",
       "\n",
       "    .dataframe tbody tr th {\n",
       "        vertical-align: top;\n",
       "    }\n",
       "\n",
       "    .dataframe thead th {\n",
       "        text-align: right;\n",
       "    }\n",
       "</style>\n",
       "<table border=\"1\" class=\"dataframe\">\n",
       "  <thead>\n",
       "    <tr style=\"text-align: right;\">\n",
       "      <th></th>\n",
       "      <th>ref_type</th>\n",
       "      <th>repo</th>\n",
       "      <th>sha</th>\n",
       "      <th>ref_id</th>\n",
       "      <th>file_name</th>\n",
       "      <th>is_dac</th>\n",
       "    </tr>\n",
       "  </thead>\n",
       "  <tbody>\n",
       "    <tr>\n",
       "      <th>0</th>\n",
       "      <td>Move Attribute</td>\n",
       "      <td>1466541</td>\n",
       "      <td>1466541</td>\n",
       "      <td>1466541</td>\n",
       "      <td>1466541</td>\n",
       "      <td>1466541</td>\n",
       "    </tr>\n",
       "    <tr>\n",
       "      <th>1</th>\n",
       "      <td>Change Attribute Access Modifier</td>\n",
       "      <td>594554</td>\n",
       "      <td>594554</td>\n",
       "      <td>594554</td>\n",
       "      <td>594554</td>\n",
       "      <td>594554</td>\n",
       "    </tr>\n",
       "    <tr>\n",
       "      <th>2</th>\n",
       "      <td>Pull Up Attribute</td>\n",
       "      <td>8872</td>\n",
       "      <td>8872</td>\n",
       "      <td>8872</td>\n",
       "      <td>8872</td>\n",
       "      <td>8872</td>\n",
       "    </tr>\n",
       "    <tr>\n",
       "      <th>3</th>\n",
       "      <td>Change Return Type</td>\n",
       "      <td>5685</td>\n",
       "      <td>5685</td>\n",
       "      <td>5685</td>\n",
       "      <td>5685</td>\n",
       "      <td>5685</td>\n",
       "    </tr>\n",
       "    <tr>\n",
       "      <th>4</th>\n",
       "      <td>Rename Method</td>\n",
       "      <td>3400</td>\n",
       "      <td>3400</td>\n",
       "      <td>3400</td>\n",
       "      <td>3400</td>\n",
       "      <td>3400</td>\n",
       "    </tr>\n",
       "    <tr>\n",
       "      <th>...</th>\n",
       "      <td>...</td>\n",
       "      <td>...</td>\n",
       "      <td>...</td>\n",
       "      <td>...</td>\n",
       "      <td>...</td>\n",
       "      <td>...</td>\n",
       "    </tr>\n",
       "    <tr>\n",
       "      <th>63</th>\n",
       "      <td>Add Parameter Annotation</td>\n",
       "      <td>3</td>\n",
       "      <td>3</td>\n",
       "      <td>3</td>\n",
       "      <td>3</td>\n",
       "      <td>3</td>\n",
       "    </tr>\n",
       "    <tr>\n",
       "      <th>64</th>\n",
       "      <td>Split Attribute</td>\n",
       "      <td>2</td>\n",
       "      <td>2</td>\n",
       "      <td>2</td>\n",
       "      <td>2</td>\n",
       "      <td>2</td>\n",
       "    </tr>\n",
       "    <tr>\n",
       "      <th>65</th>\n",
       "      <td>Modify Method Annotation</td>\n",
       "      <td>2</td>\n",
       "      <td>2</td>\n",
       "      <td>2</td>\n",
       "      <td>2</td>\n",
       "      <td>2</td>\n",
       "    </tr>\n",
       "    <tr>\n",
       "      <th>66</th>\n",
       "      <td>Extract Subclass</td>\n",
       "      <td>1</td>\n",
       "      <td>1</td>\n",
       "      <td>1</td>\n",
       "      <td>1</td>\n",
       "      <td>1</td>\n",
       "    </tr>\n",
       "    <tr>\n",
       "      <th>67</th>\n",
       "      <td>Replace Attribute</td>\n",
       "      <td>1</td>\n",
       "      <td>1</td>\n",
       "      <td>1</td>\n",
       "      <td>1</td>\n",
       "      <td>1</td>\n",
       "    </tr>\n",
       "  </tbody>\n",
       "</table>\n",
       "<p>68 rows × 6 columns</p>\n",
       "</div>"
      ],
      "text/plain": [
       "                            ref_type     repo      sha   ref_id  file_name  \\\n",
       "0                     Move Attribute  1466541  1466541  1466541    1466541   \n",
       "1   Change Attribute Access Modifier   594554   594554   594554     594554   \n",
       "2                  Pull Up Attribute     8872     8872     8872       8872   \n",
       "3                 Change Return Type     5685     5685     5685       5685   \n",
       "4                      Rename Method     3400     3400     3400       3400   \n",
       "..                               ...      ...      ...      ...        ...   \n",
       "63          Add Parameter Annotation        3        3        3          3   \n",
       "64                   Split Attribute        2        2        2          2   \n",
       "65          Modify Method Annotation        2        2        2          2   \n",
       "66                  Extract Subclass        1        1        1          1   \n",
       "67                 Replace Attribute        1        1        1          1   \n",
       "\n",
       "     is_dac  \n",
       "0   1466541  \n",
       "1    594554  \n",
       "2      8872  \n",
       "3      5685  \n",
       "4      3400  \n",
       "..      ...  \n",
       "63        3  \n",
       "64        2  \n",
       "65        2  \n",
       "66        1  \n",
       "67        1  \n",
       "\n",
       "[68 rows x 6 columns]"
      ]
     },
     "execution_count": 27,
     "metadata": {},
     "output_type": "execute_result"
    }
   ],
   "source": [
    "#explore why move attribute is the most dominant\n",
    "#lets takeout adempiere and re-do\n",
    "regular2=regular[regular[\"repo\"]==\"adempiere_adempiere\"]\n",
    "reg_ref_counts=regular2.groupby(by=[\"ref_type\"]).count().sort_values(by=\"ref_id\", ascending=False)\n",
    "reg_ref_counts=reg_ref_counts.reset_index()\n",
    "reg_ref_counts"
   ]
  },
  {
   "cell_type": "code",
   "execution_count": 29,
   "metadata": {},
   "outputs": [
    {
     "data": {
      "text/html": [
       "<div>\n",
       "<style scoped>\n",
       "    .dataframe tbody tr th:only-of-type {\n",
       "        vertical-align: middle;\n",
       "    }\n",
       "\n",
       "    .dataframe tbody tr th {\n",
       "        vertical-align: top;\n",
       "    }\n",
       "\n",
       "    .dataframe thead th {\n",
       "        text-align: right;\n",
       "    }\n",
       "</style>\n",
       "<table border=\"1\" class=\"dataframe\">\n",
       "  <thead>\n",
       "    <tr style=\"text-align: right;\">\n",
       "      <th></th>\n",
       "      <th>ref_type</th>\n",
       "      <th>repo</th>\n",
       "      <th>sha</th>\n",
       "      <th>ref_id</th>\n",
       "      <th>file_name</th>\n",
       "      <th>is_dac</th>\n",
       "    </tr>\n",
       "  </thead>\n",
       "  <tbody>\n",
       "    <tr>\n",
       "      <th>0</th>\n",
       "      <td>Move Attribute</td>\n",
       "      <td>1470365</td>\n",
       "      <td>1470365</td>\n",
       "      <td>1470365</td>\n",
       "      <td>1470365</td>\n",
       "      <td>1470365</td>\n",
       "    </tr>\n",
       "    <tr>\n",
       "      <th>1</th>\n",
       "      <td>Change Attribute Access Modifier</td>\n",
       "      <td>600345</td>\n",
       "      <td>600345</td>\n",
       "      <td>600345</td>\n",
       "      <td>600345</td>\n",
       "      <td>600345</td>\n",
       "    </tr>\n",
       "    <tr>\n",
       "      <th>2</th>\n",
       "      <td>Add Method Annotation</td>\n",
       "      <td>26913</td>\n",
       "      <td>26913</td>\n",
       "      <td>26913</td>\n",
       "      <td>26913</td>\n",
       "      <td>26913</td>\n",
       "    </tr>\n",
       "    <tr>\n",
       "      <th>3</th>\n",
       "      <td>Rename Method</td>\n",
       "      <td>22963</td>\n",
       "      <td>22963</td>\n",
       "      <td>22963</td>\n",
       "      <td>22963</td>\n",
       "      <td>22963</td>\n",
       "    </tr>\n",
       "    <tr>\n",
       "      <th>4</th>\n",
       "      <td>Change Parameter Type</td>\n",
       "      <td>21618</td>\n",
       "      <td>21618</td>\n",
       "      <td>21618</td>\n",
       "      <td>21618</td>\n",
       "      <td>21618</td>\n",
       "    </tr>\n",
       "    <tr>\n",
       "      <th>...</th>\n",
       "      <td>...</td>\n",
       "      <td>...</td>\n",
       "      <td>...</td>\n",
       "      <td>...</td>\n",
       "      <td>...</td>\n",
       "      <td>...</td>\n",
       "    </tr>\n",
       "    <tr>\n",
       "      <th>69</th>\n",
       "      <td>Move And Rename Attribute</td>\n",
       "      <td>45</td>\n",
       "      <td>45</td>\n",
       "      <td>45</td>\n",
       "      <td>45</td>\n",
       "      <td>45</td>\n",
       "    </tr>\n",
       "    <tr>\n",
       "      <th>70</th>\n",
       "      <td>Split Attribute</td>\n",
       "      <td>42</td>\n",
       "      <td>42</td>\n",
       "      <td>42</td>\n",
       "      <td>42</td>\n",
       "      <td>42</td>\n",
       "    </tr>\n",
       "    <tr>\n",
       "      <th>71</th>\n",
       "      <td>Remove Variable Annotation</td>\n",
       "      <td>42</td>\n",
       "      <td>42</td>\n",
       "      <td>42</td>\n",
       "      <td>42</td>\n",
       "      <td>42</td>\n",
       "    </tr>\n",
       "    <tr>\n",
       "      <th>72</th>\n",
       "      <td>Replace Attribute</td>\n",
       "      <td>20</td>\n",
       "      <td>20</td>\n",
       "      <td>20</td>\n",
       "      <td>20</td>\n",
       "      <td>20</td>\n",
       "    </tr>\n",
       "    <tr>\n",
       "      <th>73</th>\n",
       "      <td>Split Variable</td>\n",
       "      <td>18</td>\n",
       "      <td>18</td>\n",
       "      <td>18</td>\n",
       "      <td>18</td>\n",
       "      <td>18</td>\n",
       "    </tr>\n",
       "  </tbody>\n",
       "</table>\n",
       "<p>74 rows × 6 columns</p>\n",
       "</div>"
      ],
      "text/plain": [
       "                            ref_type     repo      sha   ref_id  file_name  \\\n",
       "0                     Move Attribute  1470365  1470365  1470365    1470365   \n",
       "1   Change Attribute Access Modifier   600345   600345   600345     600345   \n",
       "2              Add Method Annotation    26913    26913    26913      26913   \n",
       "3                      Rename Method    22963    22963    22963      22963   \n",
       "4              Change Parameter Type    21618    21618    21618      21618   \n",
       "..                               ...      ...      ...      ...        ...   \n",
       "69         Move And Rename Attribute       45       45       45         45   \n",
       "70                   Split Attribute       42       42       42         42   \n",
       "71        Remove Variable Annotation       42       42       42         42   \n",
       "72                 Replace Attribute       20       20       20         20   \n",
       "73                    Split Variable       18       18       18         18   \n",
       "\n",
       "     is_dac  \n",
       "0   1470365  \n",
       "1    600345  \n",
       "2     26913  \n",
       "3     22963  \n",
       "4     21618  \n",
       "..      ...  \n",
       "69       45  \n",
       "70       42  \n",
       "71       42  \n",
       "72       20  \n",
       "73       18  \n",
       "\n",
       "[74 rows x 6 columns]"
      ]
     },
     "execution_count": 29,
     "metadata": {},
     "output_type": "execute_result"
    }
   ],
   "source": [
    "#all included\n",
    "regular2=regular[regular[\"repo\"]!=\"adempiere_adempiere\"]\n",
    "reg_ref_counts=regular.groupby(by=[\"ref_type\"]).count().sort_values(by=\"ref_id\", ascending=False)\n",
    "reg_ref_counts=reg_ref_counts.reset_index()\n",
    "reg_ref_counts"
   ]
  },
  {
   "cell_type": "code",
   "execution_count": 28,
   "metadata": {},
   "outputs": [
    {
     "data": {
      "text/html": [
       "<div>\n",
       "<style scoped>\n",
       "    .dataframe tbody tr th:only-of-type {\n",
       "        vertical-align: middle;\n",
       "    }\n",
       "\n",
       "    .dataframe tbody tr th {\n",
       "        vertical-align: top;\n",
       "    }\n",
       "\n",
       "    .dataframe thead th {\n",
       "        text-align: right;\n",
       "    }\n",
       "</style>\n",
       "<table border=\"1\" class=\"dataframe\">\n",
       "  <thead>\n",
       "    <tr style=\"text-align: right;\">\n",
       "      <th></th>\n",
       "      <th>ref_type</th>\n",
       "      <th>repo</th>\n",
       "      <th>sha</th>\n",
       "      <th>ref_id</th>\n",
       "      <th>file_name</th>\n",
       "      <th>is_dac</th>\n",
       "    </tr>\n",
       "  </thead>\n",
       "  <tbody>\n",
       "    <tr>\n",
       "      <th>0</th>\n",
       "      <td>Add Method Annotation</td>\n",
       "      <td>26320</td>\n",
       "      <td>26320</td>\n",
       "      <td>26320</td>\n",
       "      <td>26320</td>\n",
       "      <td>26320</td>\n",
       "    </tr>\n",
       "    <tr>\n",
       "      <th>1</th>\n",
       "      <td>Change Parameter Type</td>\n",
       "      <td>20900</td>\n",
       "      <td>20900</td>\n",
       "      <td>20900</td>\n",
       "      <td>20900</td>\n",
       "      <td>20900</td>\n",
       "    </tr>\n",
       "    <tr>\n",
       "      <th>2</th>\n",
       "      <td>Change Variable Type</td>\n",
       "      <td>20138</td>\n",
       "      <td>20138</td>\n",
       "      <td>20138</td>\n",
       "      <td>20138</td>\n",
       "      <td>20138</td>\n",
       "    </tr>\n",
       "    <tr>\n",
       "      <th>3</th>\n",
       "      <td>Rename Method</td>\n",
       "      <td>19563</td>\n",
       "      <td>19563</td>\n",
       "      <td>19563</td>\n",
       "      <td>19563</td>\n",
       "      <td>19563</td>\n",
       "    </tr>\n",
       "    <tr>\n",
       "      <th>4</th>\n",
       "      <td>Add Parameter</td>\n",
       "      <td>17682</td>\n",
       "      <td>17682</td>\n",
       "      <td>17682</td>\n",
       "      <td>17682</td>\n",
       "      <td>17682</td>\n",
       "    </tr>\n",
       "    <tr>\n",
       "      <th>...</th>\n",
       "      <td>...</td>\n",
       "      <td>...</td>\n",
       "      <td>...</td>\n",
       "      <td>...</td>\n",
       "      <td>...</td>\n",
       "      <td>...</td>\n",
       "    </tr>\n",
       "    <tr>\n",
       "      <th>69</th>\n",
       "      <td>Remove Variable Annotation</td>\n",
       "      <td>42</td>\n",
       "      <td>42</td>\n",
       "      <td>42</td>\n",
       "      <td>42</td>\n",
       "      <td>42</td>\n",
       "    </tr>\n",
       "    <tr>\n",
       "      <th>70</th>\n",
       "      <td>Split Attribute</td>\n",
       "      <td>40</td>\n",
       "      <td>40</td>\n",
       "      <td>40</td>\n",
       "      <td>40</td>\n",
       "      <td>40</td>\n",
       "    </tr>\n",
       "    <tr>\n",
       "      <th>71</th>\n",
       "      <td>Move And Rename Attribute</td>\n",
       "      <td>39</td>\n",
       "      <td>39</td>\n",
       "      <td>39</td>\n",
       "      <td>39</td>\n",
       "      <td>39</td>\n",
       "    </tr>\n",
       "    <tr>\n",
       "      <th>72</th>\n",
       "      <td>Replace Attribute</td>\n",
       "      <td>19</td>\n",
       "      <td>19</td>\n",
       "      <td>19</td>\n",
       "      <td>19</td>\n",
       "      <td>19</td>\n",
       "    </tr>\n",
       "    <tr>\n",
       "      <th>73</th>\n",
       "      <td>Split Variable</td>\n",
       "      <td>13</td>\n",
       "      <td>13</td>\n",
       "      <td>13</td>\n",
       "      <td>13</td>\n",
       "      <td>13</td>\n",
       "    </tr>\n",
       "  </tbody>\n",
       "</table>\n",
       "<p>74 rows × 6 columns</p>\n",
       "</div>"
      ],
      "text/plain": [
       "                      ref_type   repo    sha  ref_id  file_name  is_dac\n",
       "0        Add Method Annotation  26320  26320   26320      26320   26320\n",
       "1        Change Parameter Type  20900  20900   20900      20900   20900\n",
       "2         Change Variable Type  20138  20138   20138      20138   20138\n",
       "3                Rename Method  19563  19563   19563      19563   19563\n",
       "4                Add Parameter  17682  17682   17682      17682   17682\n",
       "..                         ...    ...    ...     ...        ...     ...\n",
       "69  Remove Variable Annotation     42     42      42         42      42\n",
       "70             Split Attribute     40     40      40         40      40\n",
       "71   Move And Rename Attribute     39     39      39         39      39\n",
       "72           Replace Attribute     19     19      19         19      19\n",
       "73              Split Variable     13     13      13         13      13\n",
       "\n",
       "[74 rows x 6 columns]"
      ]
     },
     "execution_count": 28,
     "metadata": {},
     "output_type": "execute_result"
    }
   ],
   "source": [
    "regular2=regular[regular[\"repo\"]!=\"adempiere_adempiere\"]\n",
    "reg_ref_counts=regular2.groupby(by=[\"ref_type\"]).count().sort_values(by=\"ref_id\", ascending=False)\n",
    "reg_ref_counts=reg_ref_counts.reset_index()\n",
    "reg_ref_counts"
   ]
  },
  {
   "cell_type": "code",
   "execution_count": 38,
   "metadata": {},
   "outputs": [],
   "source": [
    "#identifying the types commnly prevalent in dac and regular classes\n",
    "dac_set=set(dac_ref_counts.head(10)[\"Refactoring Type\"].tolist())\n",
    "reg_set=set(reg_ref_counts.head(10)[\"Refactoring Type\"].tolist())"
   ]
  },
  {
   "cell_type": "code",
   "execution_count": 39,
   "metadata": {},
   "outputs": [
    {
     "data": {
      "text/plain": [
       "{'Add Method Annotation',\n",
       " 'Add Parameter',\n",
       " 'Change Parameter Type',\n",
       " 'Change Variable Type',\n",
       " 'Rename Method',\n",
       " 'Rename Parameter',\n",
       " 'Rename Variable'}"
      ]
     },
     "execution_count": 39,
     "metadata": {},
     "output_type": "execute_result"
    }
   ],
   "source": [
    "#Commonly prevalent\n",
    "dac_set & reg_set"
   ]
  },
  {
   "cell_type": "code",
   "execution_count": 40,
   "metadata": {},
   "outputs": [
    {
     "data": {
      "text/plain": [
       "{'Add Parameter Modifier', 'Change Method Access Modifier', 'Extract Method'}"
      ]
     },
     "execution_count": 40,
     "metadata": {},
     "output_type": "execute_result"
    }
   ],
   "source": [
    "#Prevalent in dac\n",
    "dac_set - reg_set"
   ]
  },
  {
   "cell_type": "code",
   "execution_count": 41,
   "metadata": {},
   "outputs": [
    {
     "data": {
      "text/plain": [
       "{'Change Attribute Access Modifier', 'Change Return Type', 'Move Attribute'}"
      ]
     },
     "execution_count": 41,
     "metadata": {},
     "output_type": "execute_result"
    }
   ],
   "source": [
    "#Prevalent in reg\n",
    "reg_set-dac_set "
   ]
  },
  {
   "cell_type": "code",
   "execution_count": 42,
   "metadata": {},
   "outputs": [
    {
     "data": {
      "text/html": [
       "<div>\n",
       "<style scoped>\n",
       "    .dataframe tbody tr th:only-of-type {\n",
       "        vertical-align: middle;\n",
       "    }\n",
       "\n",
       "    .dataframe tbody tr th {\n",
       "        vertical-align: top;\n",
       "    }\n",
       "\n",
       "    .dataframe thead th {\n",
       "        text-align: right;\n",
       "    }\n",
       "</style>\n",
       "<table border=\"1\" class=\"dataframe\">\n",
       "  <thead>\n",
       "    <tr style=\"text-align: right;\">\n",
       "      <th></th>\n",
       "      <th>Refactoring Type</th>\n",
       "      <th>count</th>\n",
       "      <th>percentage</th>\n",
       "    </tr>\n",
       "    <tr>\n",
       "      <th>ref_type</th>\n",
       "      <th></th>\n",
       "      <th></th>\n",
       "      <th></th>\n",
       "    </tr>\n",
       "  </thead>\n",
       "  <tbody>\n",
       "    <tr>\n",
       "      <th>Remove Attribute Annotation</th>\n",
       "      <td>Remove Attribute Annotation</td>\n",
       "      <td>8</td>\n",
       "      <td>0.042346</td>\n",
       "    </tr>\n",
       "    <tr>\n",
       "      <th>Remove Variable Annotation</th>\n",
       "      <td>Remove Variable Annotation</td>\n",
       "      <td>7</td>\n",
       "      <td>0.037053</td>\n",
       "    </tr>\n",
       "    <tr>\n",
       "      <th>Split Variable</th>\n",
       "      <td>Split Variable</td>\n",
       "      <td>5</td>\n",
       "      <td>0.026466</td>\n",
       "    </tr>\n",
       "    <tr>\n",
       "      <th>Merge Attribute</th>\n",
       "      <td>Merge Attribute</td>\n",
       "      <td>4</td>\n",
       "      <td>0.021173</td>\n",
       "    </tr>\n",
       "    <tr>\n",
       "      <th>Split Parameter</th>\n",
       "      <td>Split Parameter</td>\n",
       "      <td>3</td>\n",
       "      <td>0.015880</td>\n",
       "    </tr>\n",
       "    <tr>\n",
       "      <th>Move And Rename Attribute</th>\n",
       "      <td>Move And Rename Attribute</td>\n",
       "      <td>3</td>\n",
       "      <td>0.015880</td>\n",
       "    </tr>\n",
       "    <tr>\n",
       "      <th>Remove Parameter Annotation</th>\n",
       "      <td>Remove Parameter Annotation</td>\n",
       "      <td>2</td>\n",
       "      <td>0.010586</td>\n",
       "    </tr>\n",
       "    <tr>\n",
       "      <th>Replace Attribute</th>\n",
       "      <td>Replace Attribute</td>\n",
       "      <td>2</td>\n",
       "      <td>0.010586</td>\n",
       "    </tr>\n",
       "    <tr>\n",
       "      <th>Push Down Attribute</th>\n",
       "      <td>Push Down Attribute</td>\n",
       "      <td>2</td>\n",
       "      <td>0.010586</td>\n",
       "    </tr>\n",
       "    <tr>\n",
       "      <th>Modify Attribute Annotation</th>\n",
       "      <td>Modify Attribute Annotation</td>\n",
       "      <td>1</td>\n",
       "      <td>0.005293</td>\n",
       "    </tr>\n",
       "  </tbody>\n",
       "</table>\n",
       "</div>"
      ],
      "text/plain": [
       "                                        Refactoring Type  count  percentage\n",
       "ref_type                                                                   \n",
       "Remove Attribute Annotation  Remove Attribute Annotation      8    0.042346\n",
       "Remove Variable Annotation    Remove Variable Annotation      7    0.037053\n",
       "Split Variable                            Split Variable      5    0.026466\n",
       "Merge Attribute                          Merge Attribute      4    0.021173\n",
       "Split Parameter                          Split Parameter      3    0.015880\n",
       "Move And Rename Attribute      Move And Rename Attribute      3    0.015880\n",
       "Remove Parameter Annotation  Remove Parameter Annotation      2    0.010586\n",
       "Replace Attribute                      Replace Attribute      2    0.010586\n",
       "Push Down Attribute                  Push Down Attribute      2    0.010586\n",
       "Modify Attribute Annotation  Modify Attribute Annotation      1    0.005293"
      ]
     },
     "execution_count": 42,
     "metadata": {},
     "output_type": "execute_result"
    }
   ],
   "source": [
    "#dac rare refactoring types\n",
    "dac_ref_counts.tail(10)"
   ]
  },
  {
   "cell_type": "code",
   "execution_count": 43,
   "metadata": {},
   "outputs": [
    {
     "data": {
      "text/html": [
       "<div>\n",
       "<style scoped>\n",
       "    .dataframe tbody tr th:only-of-type {\n",
       "        vertical-align: middle;\n",
       "    }\n",
       "\n",
       "    .dataframe tbody tr th {\n",
       "        vertical-align: top;\n",
       "    }\n",
       "\n",
       "    .dataframe thead th {\n",
       "        text-align: right;\n",
       "    }\n",
       "</style>\n",
       "<table border=\"1\" class=\"dataframe\">\n",
       "  <thead>\n",
       "    <tr style=\"text-align: right;\">\n",
       "      <th></th>\n",
       "      <th>Refactoring Type</th>\n",
       "      <th>count</th>\n",
       "      <th>percentage</th>\n",
       "    </tr>\n",
       "    <tr>\n",
       "      <th>ref_type</th>\n",
       "      <th></th>\n",
       "      <th></th>\n",
       "      <th></th>\n",
       "    </tr>\n",
       "  </thead>\n",
       "  <tbody>\n",
       "    <tr>\n",
       "      <th>Add Variable Annotation</th>\n",
       "      <td>Add Variable Annotation</td>\n",
       "      <td>145</td>\n",
       "      <td>0.005908</td>\n",
       "    </tr>\n",
       "    <tr>\n",
       "      <th>Extract Subclass</th>\n",
       "      <td>Extract Subclass</td>\n",
       "      <td>110</td>\n",
       "      <td>0.004482</td>\n",
       "    </tr>\n",
       "    <tr>\n",
       "      <th>Merge Attribute</th>\n",
       "      <td>Merge Attribute</td>\n",
       "      <td>101</td>\n",
       "      <td>0.004115</td>\n",
       "    </tr>\n",
       "    <tr>\n",
       "      <th>Merge Variable</th>\n",
       "      <td>Merge Variable</td>\n",
       "      <td>97</td>\n",
       "      <td>0.003952</td>\n",
       "    </tr>\n",
       "    <tr>\n",
       "      <th>Split Parameter</th>\n",
       "      <td>Split Parameter</td>\n",
       "      <td>73</td>\n",
       "      <td>0.002974</td>\n",
       "    </tr>\n",
       "    <tr>\n",
       "      <th>Move And Rename Attribute</th>\n",
       "      <td>Move And Rename Attribute</td>\n",
       "      <td>45</td>\n",
       "      <td>0.001834</td>\n",
       "    </tr>\n",
       "    <tr>\n",
       "      <th>Split Attribute</th>\n",
       "      <td>Split Attribute</td>\n",
       "      <td>42</td>\n",
       "      <td>0.001711</td>\n",
       "    </tr>\n",
       "    <tr>\n",
       "      <th>Remove Variable Annotation</th>\n",
       "      <td>Remove Variable Annotation</td>\n",
       "      <td>42</td>\n",
       "      <td>0.001711</td>\n",
       "    </tr>\n",
       "    <tr>\n",
       "      <th>Replace Attribute</th>\n",
       "      <td>Replace Attribute</td>\n",
       "      <td>20</td>\n",
       "      <td>0.000815</td>\n",
       "    </tr>\n",
       "    <tr>\n",
       "      <th>Split Variable</th>\n",
       "      <td>Split Variable</td>\n",
       "      <td>18</td>\n",
       "      <td>0.000733</td>\n",
       "    </tr>\n",
       "  </tbody>\n",
       "</table>\n",
       "</div>"
      ],
      "text/plain": [
       "                                      Refactoring Type  count  percentage\n",
       "ref_type                                                                 \n",
       "Add Variable Annotation        Add Variable Annotation    145    0.005908\n",
       "Extract Subclass                      Extract Subclass    110    0.004482\n",
       "Merge Attribute                        Merge Attribute    101    0.004115\n",
       "Merge Variable                          Merge Variable     97    0.003952\n",
       "Split Parameter                        Split Parameter     73    0.002974\n",
       "Move And Rename Attribute    Move And Rename Attribute     45    0.001834\n",
       "Split Attribute                        Split Attribute     42    0.001711\n",
       "Remove Variable Annotation  Remove Variable Annotation     42    0.001711\n",
       "Replace Attribute                    Replace Attribute     20    0.000815\n",
       "Split Variable                          Split Variable     18    0.000733"
      ]
     },
     "execution_count": 43,
     "metadata": {},
     "output_type": "execute_result"
    }
   ],
   "source": [
    "#Least prevalent regular refactoring Types\n",
    "reg_ref_counts.tail(10)"
   ]
  },
  {
   "cell_type": "code",
   "execution_count": 44,
   "metadata": {},
   "outputs": [],
   "source": [
    "def check_length(fileNames):\n",
    "    return len(fileNames)"
   ]
  },
  {
   "cell_type": "code",
   "execution_count": 45,
   "metadata": {},
   "outputs": [
    {
     "name": "stderr",
     "output_type": "stream",
     "text": [
      "/tmp/ipykernel_182639/2914363803.py:1: SettingWithCopyWarning: \n",
      "A value is trying to be set on a copy of a slice from a DataFrame.\n",
      "Try using .loc[row_indexer,col_indexer] = value instead\n",
      "\n",
      "See the caveats in the documentation: https://pandas.pydata.org/pandas-docs/stable/user_guide/indexing.html#returning-a-view-versus-a-copy\n",
      "  dac[\"no_of_files\"]=dac[\"file_name\"].apply(check_length)\n"
     ]
    }
   ],
   "source": [
    "dac[\"no_of_files\"]=dac[\"file_name\"].apply(check_length)"
   ]
  },
  {
   "cell_type": "code",
   "execution_count": 46,
   "metadata": {},
   "outputs": [
    {
     "name": "stderr",
     "output_type": "stream",
     "text": [
      "/tmp/ipykernel_182639/3259838026.py:1: SettingWithCopyWarning: \n",
      "A value is trying to be set on a copy of a slice from a DataFrame.\n",
      "Try using .loc[row_indexer,col_indexer] = value instead\n",
      "\n",
      "See the caveats in the documentation: https://pandas.pydata.org/pandas-docs/stable/user_guide/indexing.html#returning-a-view-versus-a-copy\n",
      "  regular[\"no_of_files\"]=regular[\"file_name\"].apply(check_length)\n"
     ]
    }
   ],
   "source": [
    "regular[\"no_of_files\"]=regular[\"file_name\"].apply(check_length)"
   ]
  },
  {
   "cell_type": "code",
   "execution_count": 47,
   "metadata": {},
   "outputs": [
    {
     "data": {
      "text/html": [
       "<div>\n",
       "<style scoped>\n",
       "    .dataframe tbody tr th:only-of-type {\n",
       "        vertical-align: middle;\n",
       "    }\n",
       "\n",
       "    .dataframe tbody tr th {\n",
       "        vertical-align: top;\n",
       "    }\n",
       "\n",
       "    .dataframe thead th {\n",
       "        text-align: right;\n",
       "    }\n",
       "</style>\n",
       "<table border=\"1\" class=\"dataframe\">\n",
       "  <thead>\n",
       "    <tr style=\"text-align: right;\">\n",
       "      <th></th>\n",
       "      <th>repo</th>\n",
       "      <th>sha</th>\n",
       "      <th>ref_id</th>\n",
       "      <th>ref_type</th>\n",
       "      <th>file_name</th>\n",
       "      <th>is_dac</th>\n",
       "      <th>no_of_files</th>\n",
       "    </tr>\n",
       "  </thead>\n",
       "  <tbody>\n",
       "    <tr>\n",
       "      <th>3</th>\n",
       "      <td>oltpbench</td>\n",
       "      <td>d97a34c952f90de191d76ab5efaf32860d58b1f7</td>\n",
       "      <td>oltpbench-d97a34c952f90de191d76ab5efaf32860d58...</td>\n",
       "      <td>Encapsulate Attribute</td>\n",
       "      <td>[src/com/oltpbenchmark/api/Loader.java]</td>\n",
       "      <td>True</td>\n",
       "      <td>1</td>\n",
       "    </tr>\n",
       "    <tr>\n",
       "      <th>13</th>\n",
       "      <td>oltpbench</td>\n",
       "      <td>d77ff02e21a0b56e74ad35bb8cd53e9a5ea44194</td>\n",
       "      <td>oltpbench-d77ff02e21a0b56e74ad35bb8cd53e9a5ea4...</td>\n",
       "      <td>Extract Subclass</td>\n",
       "      <td>[src/com/oltpbenchmark/api/collectors/NoopColl...</td>\n",
       "      <td>True</td>\n",
       "      <td>2</td>\n",
       "    </tr>\n",
       "    <tr>\n",
       "      <th>16</th>\n",
       "      <td>oltpbench</td>\n",
       "      <td>35114287311ebd257fa4cdf440d754f420163149</td>\n",
       "      <td>oltpbench-35114287311ebd257fa4cdf440d754f42016...</td>\n",
       "      <td>Add Parameter</td>\n",
       "      <td>[src/com/oltpbenchmark/benchmarks/tpch/TPCHLoa...</td>\n",
       "      <td>True</td>\n",
       "      <td>1</td>\n",
       "    </tr>\n",
       "    <tr>\n",
       "      <th>17</th>\n",
       "      <td>oltpbench</td>\n",
       "      <td>35114287311ebd257fa4cdf440d754f420163149</td>\n",
       "      <td>oltpbench-35114287311ebd257fa4cdf440d754f42016...</td>\n",
       "      <td>Add Parameter</td>\n",
       "      <td>[src/com/oltpbenchmark/benchmarks/tpch/TPCHLoa...</td>\n",
       "      <td>True</td>\n",
       "      <td>1</td>\n",
       "    </tr>\n",
       "    <tr>\n",
       "      <th>18</th>\n",
       "      <td>oltpbench</td>\n",
       "      <td>35114287311ebd257fa4cdf440d754f420163149</td>\n",
       "      <td>oltpbench-35114287311ebd257fa4cdf440d754f42016...</td>\n",
       "      <td>Add Parameter</td>\n",
       "      <td>[src/com/oltpbenchmark/benchmarks/tpch/TPCHLoa...</td>\n",
       "      <td>True</td>\n",
       "      <td>1</td>\n",
       "    </tr>\n",
       "  </tbody>\n",
       "</table>\n",
       "</div>"
      ],
      "text/plain": [
       "         repo                                       sha  \\\n",
       "3   oltpbench  d97a34c952f90de191d76ab5efaf32860d58b1f7   \n",
       "13  oltpbench  d77ff02e21a0b56e74ad35bb8cd53e9a5ea44194   \n",
       "16  oltpbench  35114287311ebd257fa4cdf440d754f420163149   \n",
       "17  oltpbench  35114287311ebd257fa4cdf440d754f420163149   \n",
       "18  oltpbench  35114287311ebd257fa4cdf440d754f420163149   \n",
       "\n",
       "                                               ref_id               ref_type  \\\n",
       "3   oltpbench-d97a34c952f90de191d76ab5efaf32860d58...  Encapsulate Attribute   \n",
       "13  oltpbench-d77ff02e21a0b56e74ad35bb8cd53e9a5ea4...       Extract Subclass   \n",
       "16  oltpbench-35114287311ebd257fa4cdf440d754f42016...          Add Parameter   \n",
       "17  oltpbench-35114287311ebd257fa4cdf440d754f42016...          Add Parameter   \n",
       "18  oltpbench-35114287311ebd257fa4cdf440d754f42016...          Add Parameter   \n",
       "\n",
       "                                            file_name  is_dac  no_of_files  \n",
       "3             [src/com/oltpbenchmark/api/Loader.java]    True            1  \n",
       "13  [src/com/oltpbenchmark/api/collectors/NoopColl...    True            2  \n",
       "16  [src/com/oltpbenchmark/benchmarks/tpch/TPCHLoa...    True            1  \n",
       "17  [src/com/oltpbenchmark/benchmarks/tpch/TPCHLoa...    True            1  \n",
       "18  [src/com/oltpbenchmark/benchmarks/tpch/TPCHLoa...    True            1  "
      ]
     },
     "execution_count": 47,
     "metadata": {},
     "output_type": "execute_result"
    }
   ],
   "source": [
    "dac.head()"
   ]
  },
  {
   "cell_type": "code",
   "execution_count": 48,
   "metadata": {},
   "outputs": [],
   "source": [
    "#expand the file names\n",
    "dac_exploded=dac.explode(\"file_name\")\n",
    "reg_exploded=regular.explode(\"file_name\")"
   ]
  },
  {
   "cell_type": "code",
   "execution_count": 49,
   "metadata": {},
   "outputs": [],
   "source": [
    "#recheck DAC\n",
    "paths_df=pd.read_csv(\"../data/DAC_paths.csv\")\n",
    "def check_dac(row):\n",
    "    repo= row[\"repo\"]\n",
    "    file_name=row[\"file_name\"]\n",
    "    dac_paths=paths_df[paths_df[\"repoName\"]==repo][\"className\"].tolist()\n",
    "    return file_name in dac_paths"
   ]
  },
  {
   "cell_type": "code",
   "execution_count": 50,
   "metadata": {},
   "outputs": [
    {
     "data": {
      "text/html": [
       "<div>\n",
       "<style scoped>\n",
       "    .dataframe tbody tr th:only-of-type {\n",
       "        vertical-align: middle;\n",
       "    }\n",
       "\n",
       "    .dataframe tbody tr th {\n",
       "        vertical-align: top;\n",
       "    }\n",
       "\n",
       "    .dataframe thead th {\n",
       "        text-align: right;\n",
       "    }\n",
       "</style>\n",
       "<table border=\"1\" class=\"dataframe\">\n",
       "  <thead>\n",
       "    <tr style=\"text-align: right;\">\n",
       "      <th></th>\n",
       "      <th>repoName</th>\n",
       "      <th>className</th>\n",
       "    </tr>\n",
       "  </thead>\n",
       "  <tbody>\n",
       "    <tr>\n",
       "      <th>0</th>\n",
       "      <td>querydsl</td>\n",
       "      <td>querydsl-sql/src/main/java/com/mysema/query/sq...</td>\n",
       "    </tr>\n",
       "    <tr>\n",
       "      <th>1</th>\n",
       "      <td>querydsl</td>\n",
       "      <td>querydsl-sql/src/main/java/com/querydsl/sql/dm...</td>\n",
       "    </tr>\n",
       "    <tr>\n",
       "      <th>2</th>\n",
       "      <td>querydsl</td>\n",
       "      <td>querydsl-sql-codegen/src/test/java/com/mysema/...</td>\n",
       "    </tr>\n",
       "    <tr>\n",
       "      <th>3</th>\n",
       "      <td>querydsl</td>\n",
       "      <td>querydsl-sql/src/test/java/com/mysema/query/sq...</td>\n",
       "    </tr>\n",
       "    <tr>\n",
       "      <th>4</th>\n",
       "      <td>querydsl</td>\n",
       "      <td>querydsl-sql/src/test/java/com/mysema/query/sq...</td>\n",
       "    </tr>\n",
       "  </tbody>\n",
       "</table>\n",
       "</div>"
      ],
      "text/plain": [
       "   repoName                                          className\n",
       "0  querydsl  querydsl-sql/src/main/java/com/mysema/query/sq...\n",
       "1  querydsl  querydsl-sql/src/main/java/com/querydsl/sql/dm...\n",
       "2  querydsl  querydsl-sql-codegen/src/test/java/com/mysema/...\n",
       "3  querydsl  querydsl-sql/src/test/java/com/mysema/query/sq...\n",
       "4  querydsl  querydsl-sql/src/test/java/com/mysema/query/sq..."
      ]
     },
     "execution_count": 50,
     "metadata": {},
     "output_type": "execute_result"
    }
   ],
   "source": [
    "paths_df.head()"
   ]
  },
  {
   "cell_type": "code",
   "execution_count": 51,
   "metadata": {},
   "outputs": [
    {
     "data": {
      "text/html": [
       "<div>\n",
       "<style scoped>\n",
       "    .dataframe tbody tr th:only-of-type {\n",
       "        vertical-align: middle;\n",
       "    }\n",
       "\n",
       "    .dataframe tbody tr th {\n",
       "        vertical-align: top;\n",
       "    }\n",
       "\n",
       "    .dataframe thead th {\n",
       "        text-align: right;\n",
       "    }\n",
       "</style>\n",
       "<table border=\"1\" class=\"dataframe\">\n",
       "  <thead>\n",
       "    <tr style=\"text-align: right;\">\n",
       "      <th></th>\n",
       "      <th>repoName</th>\n",
       "      <th>className</th>\n",
       "    </tr>\n",
       "  </thead>\n",
       "  <tbody>\n",
       "  </tbody>\n",
       "</table>\n",
       "</div>"
      ],
      "text/plain": [
       "Empty DataFrame\n",
       "Columns: [repoName, className]\n",
       "Index: []"
      ]
     },
     "execution_count": 51,
     "metadata": {},
     "output_type": "execute_result"
    }
   ],
   "source": [
    "paths_df[paths_df['className']=='base/src/org/compiere/model/I_I_Order.java']"
   ]
  },
  {
   "cell_type": "code",
   "execution_count": 52,
   "metadata": {},
   "outputs": [
    {
     "data": {
      "text/plain": [
       "50482"
      ]
     },
     "execution_count": 52,
     "metadata": {},
     "output_type": "execute_result"
    }
   ],
   "source": [
    "len(dac_exploded.index)"
   ]
  },
  {
   "cell_type": "code",
   "execution_count": 53,
   "metadata": {},
   "outputs": [],
   "source": [
    "dac_exploded[\"is_dac\"]=dac_exploded.apply(check_dac, axis=1)"
   ]
  },
  {
   "cell_type": "code",
   "execution_count": 54,
   "metadata": {},
   "outputs": [],
   "source": [
    "dac_exploded_false= dac_exploded[dac_exploded[\"is_dac\"]==False]"
   ]
  },
  {
   "cell_type": "code",
   "execution_count": 67,
   "metadata": {},
   "outputs": [],
   "source": [
    "#concatinate the non-data access classes\n",
    "reg_exploded=pd.concat([reg_exploded, dac_exploded_false])\n",
    "dac_exploded=dac_exploded[dac_exploded[\"is_dac\"]==True]\n",
    "exploded=pd.concat([reg_exploded, dac_exploded])\n",
    "exploded.to_csv(\"RQ1-exploded-data.csv\", index=False)"
   ]
  },
  {
   "cell_type": "code",
   "execution_count": 85,
   "metadata": {},
   "outputs": [
    {
     "data": {
      "text/plain": [
       "29.981528763575504"
      ]
     },
     "execution_count": 85,
     "metadata": {},
     "output_type": "execute_result"
    }
   ],
   "source": [
    "2454198/81857"
   ]
  },
  {
   "cell_type": "code",
   "execution_count": 84,
   "metadata": {},
   "outputs": [
    {
     "data": {
      "text/plain": [
       "14.333839150227618"
      ]
     },
     "execution_count": 84,
     "metadata": {},
     "output_type": "execute_result"
    }
   ],
   "source": [
    "18892/1318"
   ]
  },
  {
   "cell_type": "code",
   "execution_count": 2,
   "metadata": {},
   "outputs": [],
   "source": [
    "#Check if code size is a co-founding factor\n",
    "df=pd.read_csv(\"RQ1-exploded-data-code-size.csv\")"
   ]
  },
  {
   "cell_type": "code",
   "execution_count": 8,
   "metadata": {},
   "outputs": [
    {
     "data": {
      "text/html": [
       "<div>\n",
       "<style scoped>\n",
       "    .dataframe tbody tr th:only-of-type {\n",
       "        vertical-align: middle;\n",
       "    }\n",
       "\n",
       "    .dataframe tbody tr th {\n",
       "        vertical-align: top;\n",
       "    }\n",
       "\n",
       "    .dataframe thead th {\n",
       "        text-align: right;\n",
       "    }\n",
       "</style>\n",
       "<table border=\"1\" class=\"dataframe\">\n",
       "  <thead>\n",
       "    <tr style=\"text-align: right;\">\n",
       "      <th></th>\n",
       "      <th>repo</th>\n",
       "      <th>sha</th>\n",
       "      <th>ref_id</th>\n",
       "      <th>ref_type</th>\n",
       "      <th>file_name</th>\n",
       "      <th>is_dac</th>\n",
       "      <th>no_of_files</th>\n",
       "      <th>code_size</th>\n",
       "    </tr>\n",
       "  </thead>\n",
       "  <tbody>\n",
       "    <tr>\n",
       "      <th>0</th>\n",
       "      <td>oltpbench</td>\n",
       "      <td>19d4727d8babaf165eebb20ffdc537253006c074</td>\n",
       "      <td>oltpbench-19d4727d8babaf165eebb20ffdc537253006...</td>\n",
       "      <td>Change Variable Type</td>\n",
       "      <td>src/com/oltpbenchmark/api/Worker.java</td>\n",
       "      <td>Regular</td>\n",
       "      <td>1</td>\n",
       "      <td>367</td>\n",
       "    </tr>\n",
       "    <tr>\n",
       "      <th>1</th>\n",
       "      <td>oltpbench</td>\n",
       "      <td>8e251e50ce7d1ae3671160ebc2d83cf433e6d1cf</td>\n",
       "      <td>oltpbench-8e251e50ce7d1ae3671160ebc2d83cf433e6...</td>\n",
       "      <td>Change Return Type</td>\n",
       "      <td>src/com/oltpbenchmark/DistributionStatistics.java</td>\n",
       "      <td>Regular</td>\n",
       "      <td>1</td>\n",
       "      <td>122</td>\n",
       "    </tr>\n",
       "    <tr>\n",
       "      <th>2</th>\n",
       "      <td>oltpbench</td>\n",
       "      <td>8e251e50ce7d1ae3671160ebc2d83cf433e6d1cf</td>\n",
       "      <td>oltpbench-8e251e50ce7d1ae3671160ebc2d83cf433e6...</td>\n",
       "      <td>Change Variable Type</td>\n",
       "      <td>src/com/oltpbenchmark/DistributionStatistics.java</td>\n",
       "      <td>Regular</td>\n",
       "      <td>1</td>\n",
       "      <td>122</td>\n",
       "    </tr>\n",
       "    <tr>\n",
       "      <th>3</th>\n",
       "      <td>oltpbench</td>\n",
       "      <td>d77e70c06216df2e8f9f3948dc6c731e969a68fc</td>\n",
       "      <td>oltpbench-d77e70c06216df2e8f9f3948dc6c731e969a...</td>\n",
       "      <td>Change Return Type</td>\n",
       "      <td>src/com/oltpbenchmark/DBWorkload.java</td>\n",
       "      <td>Regular</td>\n",
       "      <td>1</td>\n",
       "      <td>668</td>\n",
       "    </tr>\n",
       "    <tr>\n",
       "      <th>4</th>\n",
       "      <td>oltpbench</td>\n",
       "      <td>b7f81829dee48fd2f99e4e43767919cdbcb034c3</td>\n",
       "      <td>oltpbench-b7f81829dee48fd2f99e4e43767919cdbcb0...</td>\n",
       "      <td>Add Parameter</td>\n",
       "      <td>src/com/oltpbenchmark/Phase.java</td>\n",
       "      <td>Regular</td>\n",
       "      <td>1</td>\n",
       "      <td>169</td>\n",
       "    </tr>\n",
       "  </tbody>\n",
       "</table>\n",
       "</div>"
      ],
      "text/plain": [
       "        repo                                       sha  \\\n",
       "0  oltpbench  19d4727d8babaf165eebb20ffdc537253006c074   \n",
       "1  oltpbench  8e251e50ce7d1ae3671160ebc2d83cf433e6d1cf   \n",
       "2  oltpbench  8e251e50ce7d1ae3671160ebc2d83cf433e6d1cf   \n",
       "3  oltpbench  d77e70c06216df2e8f9f3948dc6c731e969a68fc   \n",
       "4  oltpbench  b7f81829dee48fd2f99e4e43767919cdbcb034c3   \n",
       "\n",
       "                                              ref_id              ref_type  \\\n",
       "0  oltpbench-19d4727d8babaf165eebb20ffdc537253006...  Change Variable Type   \n",
       "1  oltpbench-8e251e50ce7d1ae3671160ebc2d83cf433e6...    Change Return Type   \n",
       "2  oltpbench-8e251e50ce7d1ae3671160ebc2d83cf433e6...  Change Variable Type   \n",
       "3  oltpbench-d77e70c06216df2e8f9f3948dc6c731e969a...    Change Return Type   \n",
       "4  oltpbench-b7f81829dee48fd2f99e4e43767919cdbcb0...         Add Parameter   \n",
       "\n",
       "                                           file_name   is_dac  no_of_files  \\\n",
       "0              src/com/oltpbenchmark/api/Worker.java  Regular            1   \n",
       "1  src/com/oltpbenchmark/DistributionStatistics.java  Regular            1   \n",
       "2  src/com/oltpbenchmark/DistributionStatistics.java  Regular            1   \n",
       "3              src/com/oltpbenchmark/DBWorkload.java  Regular            1   \n",
       "4                   src/com/oltpbenchmark/Phase.java  Regular            1   \n",
       "\n",
       "   code_size  \n",
       "0        367  \n",
       "1        122  \n",
       "2        122  \n",
       "3        668  \n",
       "4        169  "
      ]
     },
     "execution_count": 8,
     "metadata": {},
     "output_type": "execute_result"
    }
   ],
   "source": [
    "df.loc[df['is_dac'] == True, 'is_dac'] = \"DAC\"\n",
    "df.loc[df['is_dac'] == False, 'is_dac'] = \"Regular\"\n",
    "df.head()\n"
   ]
  },
  {
   "cell_type": "code",
   "execution_count": 13,
   "metadata": {},
   "outputs": [
    {
     "data": {
      "text/plain": [
       "adempiere               2114101\n",
       "eclipselink              164631\n",
       "xipki                     94777\n",
       "dotCMS-core               78163\n",
       "querydsl                  43382\n",
       "WordPress-Android         33383\n",
       "carbon-apimgt             33055\n",
       "deegree-3                 23915\n",
       "MyExpenses                11103\n",
       "oltpbench                  2490\n",
       "Applozic-Android-SDK       2343\n",
       "direct-app                 1585\n",
       "Name: repo, dtype: int64"
      ]
     },
     "execution_count": 13,
     "metadata": {},
     "output_type": "execute_result"
    }
   ],
   "source": [
    "df[\"repo\"].value_counts()"
   ]
  },
  {
   "cell_type": "code",
   "execution_count": 12,
   "metadata": {},
   "outputs": [
    {
     "data": {
      "text/plain": [
       "xipki                   94777\n",
       "eclipselink                50\n",
       "dotCMS-core                15\n",
       "deegree-3                  11\n",
       "adempiere                  10\n",
       "carbon-apimgt              10\n",
       "querydsl                    8\n",
       "WordPress-Android           5\n",
       "MyExpenses                  5\n",
       "oltpbench                   2\n",
       "Applozic-Android-SDK        1\n",
       "Name: repo, dtype: int64"
      ]
     },
     "execution_count": 12,
     "metadata": {},
     "output_type": "execute_result"
    }
   ],
   "source": [
    "bad=df[df[\"code_size\"]==-1]\n",
    "bad[\"repo\"].value_counts()"
   ]
  },
  {
   "cell_type": "code",
   "execution_count": 21,
   "metadata": {},
   "outputs": [],
   "source": [
    "df.to_csv(\"RQ1-exploded-data-code-size.csv\", index=False)"
   ]
  },
  {
   "cell_type": "code",
   "execution_count": 22,
   "metadata": {},
   "outputs": [],
   "source": [
    "df=df[df[\"code_size\"]!=-1]"
   ]
  },
  {
   "cell_type": "code",
   "execution_count": 26,
   "metadata": {},
   "outputs": [],
   "source": [
    "df.loc[df['is_dac'] == True, 'is_dac'] = \"DAC\"\n",
    "df.loc[df['is_dac'] == False, 'is_dac'] = \"Regular\""
   ]
  },
  {
   "cell_type": "code",
   "execution_count": 27,
   "metadata": {},
   "outputs": [],
   "source": [
    "df.to_csv(\"RQ1-exploded-data-code-size-R.csv\", index=False)"
   ]
  },
  {
   "cell_type": "code",
   "execution_count": 28,
   "metadata": {},
   "outputs": [],
   "source": [
    "import math\n",
    "df[\"code_size_sqrt\"]=df[\"code_size\"].apply(math.sqrt)"
   ]
  },
  {
   "cell_type": "code",
   "execution_count": 29,
   "metadata": {},
   "outputs": [
    {
     "data": {
      "text/plain": [
       "<AxesSubplot:title={'center':'code_size_sqrt'}, xlabel='is_dac'>"
      ]
     },
     "execution_count": 29,
     "metadata": {},
     "output_type": "execute_result"
    },
    {
     "data": {
      "image/png": "[encoded data removed]",
      "text/plain": [
       "<Figure size 432x288 with 1 Axes>"
      ]
     },
     "metadata": {
      "needs_background": "light"
     },
     "output_type": "display_data"
    }
   ],
   "source": [
    "#lets see if there is a signficant difference in code size\n",
    "df.boxplot(column=\"code_size_sqrt\", by=\"is_dac\")"
   ]
  },
  {
   "cell_type": "code",
   "execution_count": 30,
   "metadata": {},
   "outputs": [
    {
     "data": {
      "text/html": [
       "<div>\n",
       "<style scoped>\n",
       "    .dataframe tbody tr th:only-of-type {\n",
       "        vertical-align: middle;\n",
       "    }\n",
       "\n",
       "    .dataframe tbody tr th {\n",
       "        vertical-align: top;\n",
       "    }\n",
       "\n",
       "    .dataframe thead th {\n",
       "        text-align: right;\n",
       "    }\n",
       "</style>\n",
       "<table border=\"1\" class=\"dataframe\">\n",
       "  <thead>\n",
       "    <tr style=\"text-align: right;\">\n",
       "      <th></th>\n",
       "      <th>count</th>\n",
       "      <th>mean</th>\n",
       "      <th>std</th>\n",
       "      <th>min</th>\n",
       "      <th>25%</th>\n",
       "      <th>50%</th>\n",
       "      <th>75%</th>\n",
       "      <th>max</th>\n",
       "    </tr>\n",
       "    <tr>\n",
       "      <th>is_dac</th>\n",
       "      <th></th>\n",
       "      <th></th>\n",
       "      <th></th>\n",
       "      <th></th>\n",
       "      <th></th>\n",
       "      <th></th>\n",
       "      <th></th>\n",
       "      <th></th>\n",
       "    </tr>\n",
       "  </thead>\n",
       "  <tbody>\n",
       "    <tr>\n",
       "      <th>DAC</th>\n",
       "      <td>14479.0</td>\n",
       "      <td>1547.996132</td>\n",
       "      <td>2981.677692</td>\n",
       "      <td>15.0</td>\n",
       "      <td>310.0</td>\n",
       "      <td>563.0</td>\n",
       "      <td>1159.0</td>\n",
       "      <td>13501.0</td>\n",
       "    </tr>\n",
       "    <tr>\n",
       "      <th>Regular</th>\n",
       "      <td>2524500.0</td>\n",
       "      <td>145.754927</td>\n",
       "      <td>690.322972</td>\n",
       "      <td>0.0</td>\n",
       "      <td>30.0</td>\n",
       "      <td>42.0</td>\n",
       "      <td>74.0</td>\n",
       "      <td>18383.0</td>\n",
       "    </tr>\n",
       "  </tbody>\n",
       "</table>\n",
       "</div>"
      ],
      "text/plain": [
       "             count         mean          std   min    25%    50%     75%  \\\n",
       "is_dac                                                                     \n",
       "DAC        14479.0  1547.996132  2981.677692  15.0  310.0  563.0  1159.0   \n",
       "Regular  2524500.0   145.754927   690.322972   0.0   30.0   42.0    74.0   \n",
       "\n",
       "             max  \n",
       "is_dac            \n",
       "DAC      13501.0  \n",
       "Regular  18383.0  "
      ]
     },
     "execution_count": 30,
     "metadata": {},
     "output_type": "execute_result"
    }
   ],
   "source": [
    "df.groupby(by=[\"is_dac\"])[\"code_size\"].describe()"
   ]
  },
  {
   "cell_type": "code",
   "execution_count": 31,
   "metadata": {},
   "outputs": [
    {
     "data": {
      "text/plain": [
       "Index(['repo', 'sha', 'ref_id', 'ref_type', 'file_name', 'is_dac',\n",
       "       'no_of_files', 'code_size', 'code_size_sqrt'],\n",
       "      dtype='object')"
      ]
     },
     "execution_count": 31,
     "metadata": {},
     "output_type": "execute_result"
    }
   ],
   "source": [
    "#now compute relative refactoring frequency\n",
    "df.columns"
   ]
  },
  {
   "cell_type": "code",
   "execution_count": 68,
   "metadata": {},
   "outputs": [],
   "source": [
    "#split df in to dac and regular\n",
    "df=df[df['code_size']>0]\n",
    "dac_df=df[df[\"is_dac\"]=='DAC']\n",
    "reg_df=df[df[\"is_dac\"]=='Regular']"
   ]
  },
  {
   "cell_type": "code",
   "execution_count": 69,
   "metadata": {},
   "outputs": [
    {
     "data": {
      "text/plain": [
       "14479"
      ]
     },
     "execution_count": 69,
     "metadata": {},
     "output_type": "execute_result"
    }
   ],
   "source": [
    "len(dac_df.index)"
   ]
  },
  {
   "cell_type": "code",
   "execution_count": 70,
   "metadata": {},
   "outputs": [
    {
     "data": {
      "text/plain": [
       "2524495"
      ]
     },
     "execution_count": 70,
     "metadata": {},
     "output_type": "execute_result"
    }
   ],
   "source": [
    "len(reg_df.index)"
   ]
  },
  {
   "cell_type": "code",
   "execution_count": 71,
   "metadata": {},
   "outputs": [
    {
     "data": {
      "text/plain": [
       "14479"
      ]
     },
     "execution_count": 71,
     "metadata": {},
     "output_type": "execute_result"
    }
   ],
   "source": [
    "len(df.index)-len(reg_df.index)"
   ]
  },
  {
   "cell_type": "code",
   "execution_count": 64,
   "metadata": {},
   "outputs": [
    {
     "data": {
      "text/html": [
       "<div>\n",
       "<style scoped>\n",
       "    .dataframe tbody tr th:only-of-type {\n",
       "        vertical-align: middle;\n",
       "    }\n",
       "\n",
       "    .dataframe tbody tr th {\n",
       "        vertical-align: top;\n",
       "    }\n",
       "\n",
       "    .dataframe thead th {\n",
       "        text-align: right;\n",
       "    }\n",
       "</style>\n",
       "<table border=\"1\" class=\"dataframe\">\n",
       "  <thead>\n",
       "    <tr style=\"text-align: right;\">\n",
       "      <th></th>\n",
       "      <th>repo</th>\n",
       "      <th>sha</th>\n",
       "      <th>ref_id</th>\n",
       "      <th>ref_type</th>\n",
       "      <th>file_name</th>\n",
       "      <th>is_dac</th>\n",
       "      <th>no_of_files</th>\n",
       "      <th>code_size</th>\n",
       "      <th>code_size_sqrt</th>\n",
       "    </tr>\n",
       "  </thead>\n",
       "  <tbody>\n",
       "    <tr>\n",
       "      <th>79534</th>\n",
       "      <td>dotCMS-core</td>\n",
       "      <td>ef1b51853b8f108d9b514b9d0436d4fde1006d16</td>\n",
       "      <td>dotCMS-core-ef1b51853b8f108d9b514b9d0436d4fde1...</td>\n",
       "      <td>Change Return Type</td>\n",
       "      <td>src/com/dotmarketing/portlets/rules/business/N...</td>\n",
       "      <td>Regular</td>\n",
       "      <td>1</td>\n",
       "      <td>0</td>\n",
       "      <td>0.0</td>\n",
       "    </tr>\n",
       "    <tr>\n",
       "      <th>79535</th>\n",
       "      <td>dotCMS-core</td>\n",
       "      <td>ef1b51853b8f108d9b514b9d0436d4fde1006d16</td>\n",
       "      <td>dotCMS-core-ef1b51853b8f108d9b514b9d0436d4fde1...</td>\n",
       "      <td>Change Parameter Type</td>\n",
       "      <td>src/com/dotmarketing/portlets/rules/business/N...</td>\n",
       "      <td>Regular</td>\n",
       "      <td>1</td>\n",
       "      <td>0</td>\n",
       "      <td>0.0</td>\n",
       "    </tr>\n",
       "    <tr>\n",
       "      <th>79536</th>\n",
       "      <td>dotCMS-core</td>\n",
       "      <td>ef1b51853b8f108d9b514b9d0436d4fde1006d16</td>\n",
       "      <td>dotCMS-core-ef1b51853b8f108d9b514b9d0436d4fde1...</td>\n",
       "      <td>Rename Method</td>\n",
       "      <td>src/com/dotmarketing/portlets/rules/business/N...</td>\n",
       "      <td>Regular</td>\n",
       "      <td>1</td>\n",
       "      <td>0</td>\n",
       "      <td>0.0</td>\n",
       "    </tr>\n",
       "    <tr>\n",
       "      <th>80924</th>\n",
       "      <td>dotCMS-core</td>\n",
       "      <td>09e80fe4388b5328418077e423ab334b6115b7b8</td>\n",
       "      <td>dotCMS-core-09e80fe4388b5328418077e423ab334b61...</td>\n",
       "      <td>Inline Method</td>\n",
       "      <td>src/com/dotmarketing/filters/RulesEngineFilter...</td>\n",
       "      <td>Regular</td>\n",
       "      <td>1</td>\n",
       "      <td>0</td>\n",
       "      <td>0.0</td>\n",
       "    </tr>\n",
       "    <tr>\n",
       "      <th>80942</th>\n",
       "      <td>dotCMS-core</td>\n",
       "      <td>c39c58711cc1ab4b60e5d2c7910b40a73d5ce9c8</td>\n",
       "      <td>dotCMS-core-c39c58711cc1ab4b60e5d2c7910b40a73d...</td>\n",
       "      <td>Extract Method</td>\n",
       "      <td>src/com/dotmarketing/filters/RulesEngineFilter...</td>\n",
       "      <td>Regular</td>\n",
       "      <td>1</td>\n",
       "      <td>0</td>\n",
       "      <td>0.0</td>\n",
       "    </tr>\n",
       "  </tbody>\n",
       "</table>\n",
       "</div>"
      ],
      "text/plain": [
       "              repo                                       sha  \\\n",
       "79534  dotCMS-core  ef1b51853b8f108d9b514b9d0436d4fde1006d16   \n",
       "79535  dotCMS-core  ef1b51853b8f108d9b514b9d0436d4fde1006d16   \n",
       "79536  dotCMS-core  ef1b51853b8f108d9b514b9d0436d4fde1006d16   \n",
       "80924  dotCMS-core  09e80fe4388b5328418077e423ab334b6115b7b8   \n",
       "80942  dotCMS-core  c39c58711cc1ab4b60e5d2c7910b40a73d5ce9c8   \n",
       "\n",
       "                                                  ref_id  \\\n",
       "79534  dotCMS-core-ef1b51853b8f108d9b514b9d0436d4fde1...   \n",
       "79535  dotCMS-core-ef1b51853b8f108d9b514b9d0436d4fde1...   \n",
       "79536  dotCMS-core-ef1b51853b8f108d9b514b9d0436d4fde1...   \n",
       "80924  dotCMS-core-09e80fe4388b5328418077e423ab334b61...   \n",
       "80942  dotCMS-core-c39c58711cc1ab4b60e5d2c7910b40a73d...   \n",
       "\n",
       "                    ref_type  \\\n",
       "79534     Change Return Type   \n",
       "79535  Change Parameter Type   \n",
       "79536          Rename Method   \n",
       "80924          Inline Method   \n",
       "80942         Extract Method   \n",
       "\n",
       "                                               file_name   is_dac  \\\n",
       "79534  src/com/dotmarketing/portlets/rules/business/N...  Regular   \n",
       "79535  src/com/dotmarketing/portlets/rules/business/N...  Regular   \n",
       "79536  src/com/dotmarketing/portlets/rules/business/N...  Regular   \n",
       "80924  src/com/dotmarketing/filters/RulesEngineFilter...  Regular   \n",
       "80942  src/com/dotmarketing/filters/RulesEngineFilter...  Regular   \n",
       "\n",
       "       no_of_files  code_size  code_size_sqrt  \n",
       "79534            1          0             0.0  \n",
       "79535            1          0             0.0  \n",
       "79536            1          0             0.0  \n",
       "80924            1          0             0.0  \n",
       "80942            1          0             0.0  "
      ]
     },
     "execution_count": 64,
     "metadata": {},
     "output_type": "execute_result"
    }
   ],
   "source": []
  },
  {
   "cell_type": "code",
   "execution_count": 72,
   "metadata": {},
   "outputs": [],
   "source": [
    "dac_summary=dac_df.groupby(by=\"file_name\")[\"code_size\"].describe().reset_index()\n",
    "reg_summary=reg_df.groupby(by=\"file_name\")[\"code_size\"].describe().reset_index()"
   ]
  },
  {
   "cell_type": "code",
   "execution_count": 73,
   "metadata": {},
   "outputs": [
    {
     "data": {
      "text/plain": [
       "Index(['file_name', 'count', 'mean', 'std', 'min', '25%', '50%', '75%', 'max'], dtype='object')"
      ]
     },
     "execution_count": 73,
     "metadata": {},
     "output_type": "execute_result"
    }
   ],
   "source": [
    "dac_summary.columns"
   ]
  },
  {
   "cell_type": "code",
   "execution_count": 74,
   "metadata": {},
   "outputs": [
    {
     "data": {
      "text/html": [
       "<div>\n",
       "<style scoped>\n",
       "    .dataframe tbody tr th:only-of-type {\n",
       "        vertical-align: middle;\n",
       "    }\n",
       "\n",
       "    .dataframe tbody tr th {\n",
       "        vertical-align: top;\n",
       "    }\n",
       "\n",
       "    .dataframe thead th {\n",
       "        text-align: right;\n",
       "    }\n",
       "</style>\n",
       "<table border=\"1\" class=\"dataframe\">\n",
       "  <thead>\n",
       "    <tr style=\"text-align: right;\">\n",
       "      <th></th>\n",
       "      <th>file_name</th>\n",
       "      <th>no_of_refactorings</th>\n",
       "      <th>avg_code_size</th>\n",
       "      <th>sqrt_avg_code_size</th>\n",
       "    </tr>\n",
       "  </thead>\n",
       "  <tbody>\n",
       "    <tr>\n",
       "      <th>0</th>\n",
       "      <td>JasperReports/src/org/compiere/report/ReportSt...</td>\n",
       "      <td>15.0</td>\n",
       "      <td>813.266667</td>\n",
       "      <td>28.517831</td>\n",
       "    </tr>\n",
       "    <tr>\n",
       "      <th>1</th>\n",
       "      <td>WEB-INF/src/com/_3e/ADInterface/ADLookup.java</td>\n",
       "      <td>3.0</td>\n",
       "      <td>383.000000</td>\n",
       "      <td>19.570386</td>\n",
       "    </tr>\n",
       "    <tr>\n",
       "      <th>2</th>\n",
       "      <td>WEB-INF/src/com/_3e/ADInterface/CompiereServic...</td>\n",
       "      <td>3.0</td>\n",
       "      <td>201.000000</td>\n",
       "      <td>14.177447</td>\n",
       "    </tr>\n",
       "    <tr>\n",
       "      <th>3</th>\n",
       "      <td>WEB-INF/src/com/_3e/ADInterface/InfoProduct.java</td>\n",
       "      <td>1.0</td>\n",
       "      <td>310.000000</td>\n",
       "      <td>17.606817</td>\n",
       "    </tr>\n",
       "    <tr>\n",
       "      <th>4</th>\n",
       "      <td>WEB-INF/src/com/_3e/ADInterface/ModelADService...</td>\n",
       "      <td>20.0</td>\n",
       "      <td>606.500000</td>\n",
       "      <td>24.627221</td>\n",
       "    </tr>\n",
       "    <tr>\n",
       "      <th>...</th>\n",
       "      <td>...</td>\n",
       "      <td>...</td>\n",
       "      <td>...</td>\n",
       "      <td>...</td>\n",
       "    </tr>\n",
       "    <tr>\n",
       "      <th>1313</th>\n",
       "      <td>zkwebui/WEB-INF/src/org/adempiere/webui/window...</td>\n",
       "      <td>35.0</td>\n",
       "      <td>789.171429</td>\n",
       "      <td>28.092195</td>\n",
       "    </tr>\n",
       "    <tr>\n",
       "      <th>1314</th>\n",
       "      <td>zkwebui/WEB-INF/src/org/compiere/pos/WQueryBPa...</td>\n",
       "      <td>1.0</td>\n",
       "      <td>277.000000</td>\n",
       "      <td>16.643317</td>\n",
       "    </tr>\n",
       "    <tr>\n",
       "      <th>1315</th>\n",
       "      <td>zkwebui/WEB-INF/src/org/compiere/pos/WQueryTic...</td>\n",
       "      <td>2.0</td>\n",
       "      <td>249.000000</td>\n",
       "      <td>15.779734</td>\n",
       "    </tr>\n",
       "    <tr>\n",
       "      <th>1316</th>\n",
       "      <td>zkwebui/WEB-INF/src/org/eevolution/form/WBrows...</td>\n",
       "      <td>55.0</td>\n",
       "      <td>672.727273</td>\n",
       "      <td>25.936987</td>\n",
       "    </tr>\n",
       "    <tr>\n",
       "      <th>1317</th>\n",
       "      <td>zkwebui/WEB-INF/src/org/eevolution/form/WMRPDe...</td>\n",
       "      <td>3.0</td>\n",
       "      <td>767.000000</td>\n",
       "      <td>27.694765</td>\n",
       "    </tr>\n",
       "  </tbody>\n",
       "</table>\n",
       "<p>1318 rows × 4 columns</p>\n",
       "</div>"
      ],
      "text/plain": [
       "                                              file_name  no_of_refactorings  \\\n",
       "0     JasperReports/src/org/compiere/report/ReportSt...                15.0   \n",
       "1         WEB-INF/src/com/_3e/ADInterface/ADLookup.java                 3.0   \n",
       "2     WEB-INF/src/com/_3e/ADInterface/CompiereServic...                 3.0   \n",
       "3      WEB-INF/src/com/_3e/ADInterface/InfoProduct.java                 1.0   \n",
       "4     WEB-INF/src/com/_3e/ADInterface/ModelADService...                20.0   \n",
       "...                                                 ...                 ...   \n",
       "1313  zkwebui/WEB-INF/src/org/adempiere/webui/window...                35.0   \n",
       "1314  zkwebui/WEB-INF/src/org/compiere/pos/WQueryBPa...                 1.0   \n",
       "1315  zkwebui/WEB-INF/src/org/compiere/pos/WQueryTic...                 2.0   \n",
       "1316  zkwebui/WEB-INF/src/org/eevolution/form/WBrows...                55.0   \n",
       "1317  zkwebui/WEB-INF/src/org/eevolution/form/WMRPDe...                 3.0   \n",
       "\n",
       "      avg_code_size  sqrt_avg_code_size  \n",
       "0        813.266667           28.517831  \n",
       "1        383.000000           19.570386  \n",
       "2        201.000000           14.177447  \n",
       "3        310.000000           17.606817  \n",
       "4        606.500000           24.627221  \n",
       "...             ...                 ...  \n",
       "1313     789.171429           28.092195  \n",
       "1314     277.000000           16.643317  \n",
       "1315     249.000000           15.779734  \n",
       "1316     672.727273           25.936987  \n",
       "1317     767.000000           27.694765  \n",
       "\n",
       "[1318 rows x 4 columns]"
      ]
     },
     "execution_count": 74,
     "metadata": {},
     "output_type": "execute_result"
    }
   ],
   "source": [
    "dac_summary.drop(columns=['std', 'min', '25%', '50%', '75%','max'], inplace=True)\n",
    "dac_summary.columns=['file_name', 'no_of_refactorings', 'avg_code_size']\n",
    "dac_summary[\"sqrt_avg_code_size\"]=dac_summary[\"avg_code_size\"].apply(math.sqrt)\n",
    "dac_summary"
   ]
  },
  {
   "cell_type": "code",
   "execution_count": 75,
   "metadata": {},
   "outputs": [],
   "source": [
    "reg_summary.drop(columns=['std', 'min', '25%', '50%', '75%','max'], inplace=True)\n",
    "reg_summary.columns=['file_name', 'no_of_refactorings', 'avg_code_size']\n",
    "reg_summary[\"sqrt_avg_code_size\"]=reg_summary[\"avg_code_size\"].apply(math.sqrt)"
   ]
  },
  {
   "cell_type": "code",
   "execution_count": 76,
   "metadata": {},
   "outputs": [
    {
     "data": {
      "text/html": [
       "<div>\n",
       "<style scoped>\n",
       "    .dataframe tbody tr th:only-of-type {\n",
       "        vertical-align: middle;\n",
       "    }\n",
       "\n",
       "    .dataframe tbody tr th {\n",
       "        vertical-align: top;\n",
       "    }\n",
       "\n",
       "    .dataframe thead th {\n",
       "        text-align: right;\n",
       "    }\n",
       "</style>\n",
       "<table border=\"1\" class=\"dataframe\">\n",
       "  <thead>\n",
       "    <tr style=\"text-align: right;\">\n",
       "      <th></th>\n",
       "      <th>file_name</th>\n",
       "      <th>no_of_refactorings</th>\n",
       "      <th>avg_code_size</th>\n",
       "      <th>sqrt_avg_code_size</th>\n",
       "      <th>is_dac</th>\n",
       "      <th>Relative frequency</th>\n",
       "    </tr>\n",
       "  </thead>\n",
       "  <tbody>\n",
       "    <tr>\n",
       "      <th>0</th>\n",
       "      <td>JasperReports/src/org/compiere/report/ReportSt...</td>\n",
       "      <td>15.0</td>\n",
       "      <td>813.266667</td>\n",
       "      <td>28.517831</td>\n",
       "      <td>DAC</td>\n",
       "      <td>0.525987</td>\n",
       "    </tr>\n",
       "    <tr>\n",
       "      <th>1</th>\n",
       "      <td>WEB-INF/src/com/_3e/ADInterface/ADLookup.java</td>\n",
       "      <td>3.0</td>\n",
       "      <td>383.000000</td>\n",
       "      <td>19.570386</td>\n",
       "      <td>DAC</td>\n",
       "      <td>0.153293</td>\n",
       "    </tr>\n",
       "    <tr>\n",
       "      <th>2</th>\n",
       "      <td>WEB-INF/src/com/_3e/ADInterface/CompiereServic...</td>\n",
       "      <td>3.0</td>\n",
       "      <td>201.000000</td>\n",
       "      <td>14.177447</td>\n",
       "      <td>DAC</td>\n",
       "      <td>0.211604</td>\n",
       "    </tr>\n",
       "    <tr>\n",
       "      <th>3</th>\n",
       "      <td>WEB-INF/src/com/_3e/ADInterface/InfoProduct.java</td>\n",
       "      <td>1.0</td>\n",
       "      <td>310.000000</td>\n",
       "      <td>17.606817</td>\n",
       "      <td>DAC</td>\n",
       "      <td>0.056796</td>\n",
       "    </tr>\n",
       "    <tr>\n",
       "      <th>4</th>\n",
       "      <td>WEB-INF/src/com/_3e/ADInterface/ModelADService...</td>\n",
       "      <td>20.0</td>\n",
       "      <td>606.500000</td>\n",
       "      <td>24.627221</td>\n",
       "      <td>DAC</td>\n",
       "      <td>0.812110</td>\n",
       "    </tr>\n",
       "    <tr>\n",
       "      <th>...</th>\n",
       "      <td>...</td>\n",
       "      <td>...</td>\n",
       "      <td>...</td>\n",
       "      <td>...</td>\n",
       "      <td>...</td>\n",
       "      <td>...</td>\n",
       "    </tr>\n",
       "    <tr>\n",
       "      <th>81852</th>\n",
       "      <td>zkwebui/WEB-INF/src/org/eevolution/grid/WBrows...</td>\n",
       "      <td>4.0</td>\n",
       "      <td>695.000000</td>\n",
       "      <td>26.362853</td>\n",
       "      <td>Regular</td>\n",
       "      <td>0.151729</td>\n",
       "    </tr>\n",
       "    <tr>\n",
       "      <th>81853</th>\n",
       "      <td>zkwebui/WEB-INF/src/org/spin/apps/form/WBankSt...</td>\n",
       "      <td>6.0</td>\n",
       "      <td>405.500000</td>\n",
       "      <td>20.137031</td>\n",
       "      <td>Regular</td>\n",
       "      <td>0.297959</td>\n",
       "    </tr>\n",
       "    <tr>\n",
       "      <th>81854</th>\n",
       "      <td>zkwebui/WEB-INF/test/src/org/adempiere/webui/c...</td>\n",
       "      <td>1.0</td>\n",
       "      <td>9.000000</td>\n",
       "      <td>3.000000</td>\n",
       "      <td>Regular</td>\n",
       "      <td>0.333333</td>\n",
       "    </tr>\n",
       "    <tr>\n",
       "      <th>81855</th>\n",
       "      <td>zkwebui/WEB-INF/test/src/org/adempiere/webui/c...</td>\n",
       "      <td>23.0</td>\n",
       "      <td>115.000000</td>\n",
       "      <td>10.723805</td>\n",
       "      <td>Regular</td>\n",
       "      <td>2.144761</td>\n",
       "    </tr>\n",
       "    <tr>\n",
       "      <th>81856</th>\n",
       "      <td>zkwebui/WEB-INF/test/src/org/adempiere/webui/c...</td>\n",
       "      <td>32.0</td>\n",
       "      <td>101.531250</td>\n",
       "      <td>10.076272</td>\n",
       "      <td>Regular</td>\n",
       "      <td>3.175778</td>\n",
       "    </tr>\n",
       "  </tbody>\n",
       "</table>\n",
       "<p>83175 rows × 6 columns</p>\n",
       "</div>"
      ],
      "text/plain": [
       "                                               file_name  no_of_refactorings  \\\n",
       "0      JasperReports/src/org/compiere/report/ReportSt...                15.0   \n",
       "1          WEB-INF/src/com/_3e/ADInterface/ADLookup.java                 3.0   \n",
       "2      WEB-INF/src/com/_3e/ADInterface/CompiereServic...                 3.0   \n",
       "3       WEB-INF/src/com/_3e/ADInterface/InfoProduct.java                 1.0   \n",
       "4      WEB-INF/src/com/_3e/ADInterface/ModelADService...                20.0   \n",
       "...                                                  ...                 ...   \n",
       "81852  zkwebui/WEB-INF/src/org/eevolution/grid/WBrows...                 4.0   \n",
       "81853  zkwebui/WEB-INF/src/org/spin/apps/form/WBankSt...                 6.0   \n",
       "81854  zkwebui/WEB-INF/test/src/org/adempiere/webui/c...                 1.0   \n",
       "81855  zkwebui/WEB-INF/test/src/org/adempiere/webui/c...                23.0   \n",
       "81856  zkwebui/WEB-INF/test/src/org/adempiere/webui/c...                32.0   \n",
       "\n",
       "       avg_code_size  sqrt_avg_code_size   is_dac  Relative frequency  \n",
       "0         813.266667           28.517831      DAC            0.525987  \n",
       "1         383.000000           19.570386      DAC            0.153293  \n",
       "2         201.000000           14.177447      DAC            0.211604  \n",
       "3         310.000000           17.606817      DAC            0.056796  \n",
       "4         606.500000           24.627221      DAC            0.812110  \n",
       "...              ...                 ...      ...                 ...  \n",
       "81852     695.000000           26.362853  Regular            0.151729  \n",
       "81853     405.500000           20.137031  Regular            0.297959  \n",
       "81854       9.000000            3.000000  Regular            0.333333  \n",
       "81855     115.000000           10.723805  Regular            2.144761  \n",
       "81856     101.531250           10.076272  Regular            3.175778  \n",
       "\n",
       "[83175 rows x 6 columns]"
      ]
     },
     "execution_count": 76,
     "metadata": {},
     "output_type": "execute_result"
    }
   ],
   "source": [
    "dac_summary[\"is_dac\"]=\"DAC\"\n",
    "reg_summary[\"is_dac\"]=\"Regular\"\n",
    "summary=pd.concat([dac_summary, reg_summary])\n",
    "summary[\"Relative frequency\"]=summary[\"no_of_refactorings\"]/summary[\"sqrt_avg_code_size\"]\n",
    "summary"
   ]
  },
  {
   "cell_type": "code",
   "execution_count": 57,
   "metadata": {},
   "outputs": [
    {
     "data": {
      "text/plain": [
       "file_name              object\n",
       "no_of_refactorings    float64\n",
       "avg_code_size         float64\n",
       "sqrt_acg_code_size    float64\n",
       "is_dac                 object\n",
       "Relative frequency    float64\n",
       "dtype: object"
      ]
     },
     "execution_count": 57,
     "metadata": {},
     "output_type": "execute_result"
    }
   ],
   "source": [
    "summary.dtypes"
   ]
  },
  {
   "cell_type": "code",
   "execution_count": 59,
   "metadata": {},
   "outputs": [
    {
     "data": {
      "text/plain": [
       "2.1455223880597014"
      ]
     },
     "execution_count": 59,
     "metadata": {},
     "output_type": "execute_result"
    }
   ],
   "source": [
    "23/10.72"
   ]
  },
  {
   "cell_type": "code",
   "execution_count": 78,
   "metadata": {},
   "outputs": [
    {
     "data": {
      "text/plain": [
       "count    83175.000000\n",
       "mean         4.501447\n",
       "std         49.420818\n",
       "min          0.009719\n",
       "25%          0.174078\n",
       "50%          0.333333\n",
       "75%          0.662777\n",
       "max       1377.022553\n",
       "Name: Relative frequency, dtype: float64"
      ]
     },
     "execution_count": 78,
     "metadata": {},
     "output_type": "execute_result"
    }
   ],
   "source": [
    "summary[\"Relative frequency\"].describe()"
   ]
  },
  {
   "cell_type": "code",
   "execution_count": 79,
   "metadata": {},
   "outputs": [
    {
     "data": {
      "text/html": [
       "<div>\n",
       "<style scoped>\n",
       "    .dataframe tbody tr th:only-of-type {\n",
       "        vertical-align: middle;\n",
       "    }\n",
       "\n",
       "    .dataframe tbody tr th {\n",
       "        vertical-align: top;\n",
       "    }\n",
       "\n",
       "    .dataframe thead th {\n",
       "        text-align: right;\n",
       "    }\n",
       "</style>\n",
       "<table border=\"1\" class=\"dataframe\">\n",
       "  <thead>\n",
       "    <tr style=\"text-align: right;\">\n",
       "      <th></th>\n",
       "      <th>file_name</th>\n",
       "      <th>no_of_refactorings</th>\n",
       "      <th>avg_code_size</th>\n",
       "      <th>sqrt_avg_code_size</th>\n",
       "      <th>is_dac</th>\n",
       "      <th>Relative frequency</th>\n",
       "    </tr>\n",
       "  </thead>\n",
       "  <tbody>\n",
       "    <tr>\n",
       "      <th>17980</th>\n",
       "      <td>dotCMS/src/main/java/com/dotmarketing/portlets...</td>\n",
       "      <td>29339.0</td>\n",
       "      <td>453.95051</td>\n",
       "      <td>21.306114</td>\n",
       "      <td>Regular</td>\n",
       "      <td>1377.022553</td>\n",
       "    </tr>\n",
       "  </tbody>\n",
       "</table>\n",
       "</div>"
      ],
      "text/plain": [
       "                                               file_name  no_of_refactorings  \\\n",
       "17980  dotCMS/src/main/java/com/dotmarketing/portlets...             29339.0   \n",
       "\n",
       "       avg_code_size  sqrt_avg_code_size   is_dac  Relative frequency  \n",
       "17980      453.95051           21.306114  Regular         1377.022553  "
      ]
     },
     "execution_count": 79,
     "metadata": {},
     "output_type": "execute_result"
    }
   ],
   "source": [
    "summary[summary[\"Relative frequency\"]>1377.02]"
   ]
  },
  {
   "cell_type": "code",
   "execution_count": 81,
   "metadata": {},
   "outputs": [],
   "source": [
    "summary.columns=['file_name', 'no_of_refactorings', 'avg_code_size',\n",
    "       'sqrt_avg_code_size', 'is_dac', 'Relative_frequency']"
   ]
  },
  {
   "cell_type": "code",
   "execution_count": 82,
   "metadata": {},
   "outputs": [],
   "source": [
    "summary.to_csv(\"RQ1-Relative-frequency.csv\", index=False)"
   ]
  },
  {
   "cell_type": "code",
   "execution_count": 83,
   "metadata": {},
   "outputs": [
    {
     "data": {
      "text/plain": [
       "14.333839150227618"
      ]
     },
     "execution_count": 83,
     "metadata": {},
     "output_type": "execute_result"
    }
   ],
   "source": [
    "18892/1318"
   ]
  },
  {
   "cell_type": "code",
   "execution_count": 87,
   "metadata": {},
   "outputs": [
    {
     "data": {
      "text/html": [
       "<div>\n",
       "<style scoped>\n",
       "    .dataframe tbody tr th:only-of-type {\n",
       "        vertical-align: middle;\n",
       "    }\n",
       "\n",
       "    .dataframe tbody tr th {\n",
       "        vertical-align: top;\n",
       "    }\n",
       "\n",
       "    .dataframe thead th {\n",
       "        text-align: right;\n",
       "    }\n",
       "</style>\n",
       "<table border=\"1\" class=\"dataframe\">\n",
       "  <thead>\n",
       "    <tr style=\"text-align: right;\">\n",
       "      <th></th>\n",
       "      <th>count</th>\n",
       "      <th>mean</th>\n",
       "      <th>std</th>\n",
       "      <th>min</th>\n",
       "      <th>25%</th>\n",
       "      <th>50%</th>\n",
       "      <th>75%</th>\n",
       "      <th>max</th>\n",
       "    </tr>\n",
       "    <tr>\n",
       "      <th>is_dac</th>\n",
       "      <th></th>\n",
       "      <th></th>\n",
       "      <th></th>\n",
       "      <th></th>\n",
       "      <th></th>\n",
       "      <th></th>\n",
       "      <th></th>\n",
       "      <th></th>\n",
       "    </tr>\n",
       "  </thead>\n",
       "  <tbody>\n",
       "    <tr>\n",
       "      <th>DAC</th>\n",
       "      <td>1318.0</td>\n",
       "      <td>0.515017</td>\n",
       "      <td>0.993506</td>\n",
       "      <td>0.009719</td>\n",
       "      <td>0.075378</td>\n",
       "      <td>0.176406</td>\n",
       "      <td>0.505109</td>\n",
       "      <td>13.805077</td>\n",
       "    </tr>\n",
       "    <tr>\n",
       "      <th>Regular</th>\n",
       "      <td>81857.0</td>\n",
       "      <td>4.565634</td>\n",
       "      <td>49.814334</td>\n",
       "      <td>0.011975</td>\n",
       "      <td>0.174741</td>\n",
       "      <td>0.335410</td>\n",
       "      <td>0.666667</td>\n",
       "      <td>1377.022553</td>\n",
       "    </tr>\n",
       "  </tbody>\n",
       "</table>\n",
       "</div>"
      ],
      "text/plain": [
       "           count      mean        std       min       25%       50%       75%  \\\n",
       "is_dac                                                                          \n",
       "DAC       1318.0  0.515017   0.993506  0.009719  0.075378  0.176406  0.505109   \n",
       "Regular  81857.0  4.565634  49.814334  0.011975  0.174741  0.335410  0.666667   \n",
       "\n",
       "                 max  \n",
       "is_dac                \n",
       "DAC        13.805077  \n",
       "Regular  1377.022553  "
      ]
     },
     "execution_count": 87,
     "metadata": {},
     "output_type": "execute_result"
    }
   ],
   "source": [
    "summary.groupby(by=\"is_dac\")[\"Relative_frequency\"].describe()"
   ]
  },
  {
   "cell_type": "code",
   "execution_count": 91,
   "metadata": {},
   "outputs": [],
   "source": [
    "dac=summary[summary[\"is_dac\"]==\"DAC\"]\n",
    "reg=summary[summary[\"is_dac\"]==\"Regular\"]"
   ]
  },
  {
   "cell_type": "code",
   "execution_count": 93,
   "metadata": {},
   "outputs": [
    {
     "data": {
      "text/html": [
       "<div>\n",
       "<style scoped>\n",
       "    .dataframe tbody tr th:only-of-type {\n",
       "        vertical-align: middle;\n",
       "    }\n",
       "\n",
       "    .dataframe tbody tr th {\n",
       "        vertical-align: top;\n",
       "    }\n",
       "\n",
       "    .dataframe thead th {\n",
       "        text-align: right;\n",
       "    }\n",
       "</style>\n",
       "<table border=\"1\" class=\"dataframe\">\n",
       "  <thead>\n",
       "    <tr style=\"text-align: right;\">\n",
       "      <th></th>\n",
       "      <th>file_name</th>\n",
       "      <th>no_of_refactorings</th>\n",
       "      <th>avg_code_size</th>\n",
       "      <th>sqrt_avg_code_size</th>\n",
       "      <th>is_dac</th>\n",
       "      <th>Relative_frequency</th>\n",
       "    </tr>\n",
       "  </thead>\n",
       "  <tbody>\n",
       "    <tr>\n",
       "      <th>859</th>\n",
       "      <td>querydsl-sql/src/main/java/com/mysema/query/sq...</td>\n",
       "      <td>296.0</td>\n",
       "      <td>459.733108</td>\n",
       "      <td>21.441388</td>\n",
       "      <td>DAC</td>\n",
       "      <td>13.805077</td>\n",
       "    </tr>\n",
       "    <tr>\n",
       "      <th>765</th>\n",
       "      <td>org.adempiere.pos/src/main/java/base/org/ademp...</td>\n",
       "      <td>388.0</td>\n",
       "      <td>973.520619</td>\n",
       "      <td>31.201292</td>\n",
       "      <td>DAC</td>\n",
       "      <td>12.435383</td>\n",
       "    </tr>\n",
       "    <tr>\n",
       "      <th>421</th>\n",
       "      <td>components/apimgt/org.wso2.carbon.apimgt.impl/...</td>\n",
       "      <td>1092.0</td>\n",
       "      <td>11156.557692</td>\n",
       "      <td>105.624607</td>\n",
       "      <td>DAC</td>\n",
       "      <td>10.338500</td>\n",
       "    </tr>\n",
       "    <tr>\n",
       "      <th>1059</th>\n",
       "      <td>src/org/wordpress/android/WordPressDB.java</td>\n",
       "      <td>330.0</td>\n",
       "      <td>1392.000000</td>\n",
       "      <td>37.309516</td>\n",
       "      <td>DAC</td>\n",
       "      <td>8.844928</td>\n",
       "    </tr>\n",
       "    <tr>\n",
       "      <th>172</th>\n",
       "      <td>base/src/org/compiere/model/Query.java</td>\n",
       "      <td>183.0</td>\n",
       "      <td>500.049180</td>\n",
       "      <td>22.361779</td>\n",
       "      <td>DAC</td>\n",
       "      <td>8.183606</td>\n",
       "    </tr>\n",
       "  </tbody>\n",
       "</table>\n",
       "</div>"
      ],
      "text/plain": [
       "                                              file_name  no_of_refactorings  \\\n",
       "859   querydsl-sql/src/main/java/com/mysema/query/sq...               296.0   \n",
       "765   org.adempiere.pos/src/main/java/base/org/ademp...               388.0   \n",
       "421   components/apimgt/org.wso2.carbon.apimgt.impl/...              1092.0   \n",
       "1059         src/org/wordpress/android/WordPressDB.java               330.0   \n",
       "172              base/src/org/compiere/model/Query.java               183.0   \n",
       "\n",
       "      avg_code_size  sqrt_avg_code_size is_dac  Relative_frequency  \n",
       "859      459.733108           21.441388    DAC           13.805077  \n",
       "765      973.520619           31.201292    DAC           12.435383  \n",
       "421    11156.557692          105.624607    DAC           10.338500  \n",
       "1059    1392.000000           37.309516    DAC            8.844928  \n",
       "172      500.049180           22.361779    DAC            8.183606  "
      ]
     },
     "execution_count": 93,
     "metadata": {},
     "output_type": "execute_result"
    }
   ],
   "source": [
    "dac_top=dac.sort_values(by=\"Relative_frequency\", ascending=False).head(5)"
   ]
  },
  {
   "cell_type": "code",
   "execution_count": 98,
   "metadata": {},
   "outputs": [
    {
     "data": {
      "text/plain": [
       "['querydsl-sql/src/main/java/com/mysema/query/sql/AbstractSQLQuery.java',\n",
       " 'org.adempiere.pos/src/main/java/base/org/adempiere/pos/service/CPOS.java',\n",
       " 'components/apimgt/org.wso2.carbon.apimgt.impl/src/main/java/org/wso2/carbon/apimgt/impl/dao/ApiMgtDAO.java',\n",
       " 'src/org/wordpress/android/WordPressDB.java',\n",
       " 'base/src/org/compiere/model/Query.java']"
      ]
     },
     "execution_count": 98,
     "metadata": {},
     "output_type": "execute_result"
    }
   ],
   "source": [
    "dac_top[\"file_name\"].tolist()"
   ]
  },
  {
   "cell_type": "code",
   "execution_count": null,
   "metadata": {},
   "outputs": [],
   "source": []
  }
 ],
 "metadata": {
  "kernelspec": {
   "display_name": "Python 3",
   "language": "python",
   "name": "python3"
  },
  "language_info": {
   "codemirror_mode": {
    "name": "ipython",
    "version": 3
   },
   "file_extension": ".py",
   "mimetype": "text/x-python",
   "name": "python",
   "nbconvert_exporter": "python",
   "pygments_lexer": "ipython3",
   "version": "3.8.8"
  }
 },
 "nbformat": 4,
 "nbformat_minor": 4
}
