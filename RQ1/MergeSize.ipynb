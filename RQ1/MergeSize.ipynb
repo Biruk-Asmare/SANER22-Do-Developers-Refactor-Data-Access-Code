{
 "cells": [
  {
   "cell_type": "code",
   "execution_count": 1,
   "id": "8abb4538",
   "metadata": {},
   "outputs": [],
   "source": [
    "import pandas as pd"
   ]
  },
  {
   "cell_type": "code",
   "execution_count": 2,
   "id": "073becca",
   "metadata": {},
   "outputs": [],
   "source": [
    "d=pd.read_csv(\"RQ1-exploded-data.csv\")"
   ]
  },
  {
   "cell_type": "code",
   "execution_count": 3,
   "id": "0ee7bab0",
   "metadata": {},
   "outputs": [
    {
     "data": {
      "text/html": [
       "<div>\n",
       "<style scoped>\n",
       "    .dataframe tbody tr th:only-of-type {\n",
       "        vertical-align: middle;\n",
       "    }\n",
       "\n",
       "    .dataframe tbody tr th {\n",
       "        vertical-align: top;\n",
       "    }\n",
       "\n",
       "    .dataframe thead th {\n",
       "        text-align: right;\n",
       "    }\n",
       "</style>\n",
       "<table border=\"1\" class=\"dataframe\">\n",
       "  <thead>\n",
       "    <tr style=\"text-align: right;\">\n",
       "      <th></th>\n",
       "      <th>repo</th>\n",
       "      <th>sha</th>\n",
       "      <th>ref_id</th>\n",
       "      <th>ref_type</th>\n",
       "      <th>file_name</th>\n",
       "      <th>is_dac</th>\n",
       "      <th>no_of_files</th>\n",
       "    </tr>\n",
       "  </thead>\n",
       "  <tbody>\n",
       "    <tr>\n",
       "      <th>0</th>\n",
       "      <td>oltpbench</td>\n",
       "      <td>19d4727d8babaf165eebb20ffdc537253006c074</td>\n",
       "      <td>oltpbench-19d4727d8babaf165eebb20ffdc537253006...</td>\n",
       "      <td>Change Variable Type</td>\n",
       "      <td>src/com/oltpbenchmark/api/Worker.java</td>\n",
       "      <td>False</td>\n",
       "      <td>1</td>\n",
       "    </tr>\n",
       "    <tr>\n",
       "      <th>1</th>\n",
       "      <td>oltpbench</td>\n",
       "      <td>8e251e50ce7d1ae3671160ebc2d83cf433e6d1cf</td>\n",
       "      <td>oltpbench-8e251e50ce7d1ae3671160ebc2d83cf433e6...</td>\n",
       "      <td>Change Return Type</td>\n",
       "      <td>src/com/oltpbenchmark/DistributionStatistics.java</td>\n",
       "      <td>False</td>\n",
       "      <td>1</td>\n",
       "    </tr>\n",
       "    <tr>\n",
       "      <th>2</th>\n",
       "      <td>oltpbench</td>\n",
       "      <td>8e251e50ce7d1ae3671160ebc2d83cf433e6d1cf</td>\n",
       "      <td>oltpbench-8e251e50ce7d1ae3671160ebc2d83cf433e6...</td>\n",
       "      <td>Change Variable Type</td>\n",
       "      <td>src/com/oltpbenchmark/DistributionStatistics.java</td>\n",
       "      <td>False</td>\n",
       "      <td>1</td>\n",
       "    </tr>\n",
       "    <tr>\n",
       "      <th>3</th>\n",
       "      <td>oltpbench</td>\n",
       "      <td>d77e70c06216df2e8f9f3948dc6c731e969a68fc</td>\n",
       "      <td>oltpbench-d77e70c06216df2e8f9f3948dc6c731e969a...</td>\n",
       "      <td>Change Return Type</td>\n",
       "      <td>src/com/oltpbenchmark/DBWorkload.java</td>\n",
       "      <td>False</td>\n",
       "      <td>1</td>\n",
       "    </tr>\n",
       "    <tr>\n",
       "      <th>4</th>\n",
       "      <td>oltpbench</td>\n",
       "      <td>b7f81829dee48fd2f99e4e43767919cdbcb034c3</td>\n",
       "      <td>oltpbench-b7f81829dee48fd2f99e4e43767919cdbcb0...</td>\n",
       "      <td>Add Parameter</td>\n",
       "      <td>src/com/oltpbenchmark/Phase.java</td>\n",
       "      <td>False</td>\n",
       "      <td>1</td>\n",
       "    </tr>\n",
       "  </tbody>\n",
       "</table>\n",
       "</div>"
      ],
      "text/plain": [
       "        repo                                       sha  \\\n",
       "0  oltpbench  19d4727d8babaf165eebb20ffdc537253006c074   \n",
       "1  oltpbench  8e251e50ce7d1ae3671160ebc2d83cf433e6d1cf   \n",
       "2  oltpbench  8e251e50ce7d1ae3671160ebc2d83cf433e6d1cf   \n",
       "3  oltpbench  d77e70c06216df2e8f9f3948dc6c731e969a68fc   \n",
       "4  oltpbench  b7f81829dee48fd2f99e4e43767919cdbcb034c3   \n",
       "\n",
       "                                              ref_id              ref_type  \\\n",
       "0  oltpbench-19d4727d8babaf165eebb20ffdc537253006...  Change Variable Type   \n",
       "1  oltpbench-8e251e50ce7d1ae3671160ebc2d83cf433e6...    Change Return Type   \n",
       "2  oltpbench-8e251e50ce7d1ae3671160ebc2d83cf433e6...  Change Variable Type   \n",
       "3  oltpbench-d77e70c06216df2e8f9f3948dc6c731e969a...    Change Return Type   \n",
       "4  oltpbench-b7f81829dee48fd2f99e4e43767919cdbcb0...         Add Parameter   \n",
       "\n",
       "                                           file_name  is_dac  no_of_files  \n",
       "0              src/com/oltpbenchmark/api/Worker.java   False            1  \n",
       "1  src/com/oltpbenchmark/DistributionStatistics.java   False            1  \n",
       "2  src/com/oltpbenchmark/DistributionStatistics.java   False            1  \n",
       "3              src/com/oltpbenchmark/DBWorkload.java   False            1  \n",
       "4                   src/com/oltpbenchmark/Phase.java   False            1  "
      ]
     },
     "execution_count": 3,
     "metadata": {},
     "output_type": "execute_result"
    }
   ],
   "source": [
    "d.head()"
   ]
  },
  {
   "cell_type": "code",
   "execution_count": 13,
   "id": "4520bc02",
   "metadata": {},
   "outputs": [
    {
     "data": {
      "text/plain": [
       "2602928"
      ]
     },
     "execution_count": 13,
     "metadata": {},
     "output_type": "execute_result"
    }
   ],
   "source": [
    "len(d.index)"
   ]
  },
  {
   "cell_type": "code",
   "execution_count": 8,
   "id": "55f1a672",
   "metadata": {},
   "outputs": [],
   "source": [
    "dsmall=d.drop_duplicates(subset=[\"repo\",\"sha\",\"file_name\"], keep=\"last\")"
   ]
  },
  {
   "cell_type": "code",
   "execution_count": 9,
   "id": "3403a4af",
   "metadata": {},
   "outputs": [
    {
     "data": {
      "text/plain": [
       "169002"
      ]
     },
     "execution_count": 9,
     "metadata": {},
     "output_type": "execute_result"
    }
   ],
   "source": [
    "len(dsmall.index)"
   ]
  },
  {
   "cell_type": "code",
   "execution_count": 4,
   "id": "54ebe2cd",
   "metadata": {},
   "outputs": [
    {
     "data": {
      "text/html": [
       "<div>\n",
       "<style scoped>\n",
       "    .dataframe tbody tr th:only-of-type {\n",
       "        vertical-align: middle;\n",
       "    }\n",
       "\n",
       "    .dataframe tbody tr th {\n",
       "        vertical-align: top;\n",
       "    }\n",
       "\n",
       "    .dataframe thead th {\n",
       "        text-align: right;\n",
       "    }\n",
       "</style>\n",
       "<table border=\"1\" class=\"dataframe\">\n",
       "  <thead>\n",
       "    <tr style=\"text-align: right;\">\n",
       "      <th></th>\n",
       "      <th>repo</th>\n",
       "      <th>sha</th>\n",
       "      <th>ref_id</th>\n",
       "      <th>ref_type</th>\n",
       "      <th>file_name</th>\n",
       "      <th>is_dac</th>\n",
       "      <th>no_of_files</th>\n",
       "      <th>code_size</th>\n",
       "    </tr>\n",
       "  </thead>\n",
       "  <tbody>\n",
       "    <tr>\n",
       "      <th>0</th>\n",
       "      <td>oltpbench</td>\n",
       "      <td>19d4727d8babaf165eebb20ffdc537253006c074</td>\n",
       "      <td>oltpbench-19d4727d8babaf165eebb20ffdc537253006...</td>\n",
       "      <td>Change Variable Type</td>\n",
       "      <td>src/com/oltpbenchmark/api/Worker.java</td>\n",
       "      <td>False</td>\n",
       "      <td>1</td>\n",
       "      <td>367</td>\n",
       "    </tr>\n",
       "    <tr>\n",
       "      <th>1</th>\n",
       "      <td>oltpbench</td>\n",
       "      <td>8e251e50ce7d1ae3671160ebc2d83cf433e6d1cf</td>\n",
       "      <td>oltpbench-8e251e50ce7d1ae3671160ebc2d83cf433e6...</td>\n",
       "      <td>Change Variable Type</td>\n",
       "      <td>src/com/oltpbenchmark/DistributionStatistics.java</td>\n",
       "      <td>False</td>\n",
       "      <td>1</td>\n",
       "      <td>122</td>\n",
       "    </tr>\n",
       "    <tr>\n",
       "      <th>2</th>\n",
       "      <td>oltpbench</td>\n",
       "      <td>d77e70c06216df2e8f9f3948dc6c731e969a68fc</td>\n",
       "      <td>oltpbench-d77e70c06216df2e8f9f3948dc6c731e969a...</td>\n",
       "      <td>Change Return Type</td>\n",
       "      <td>src/com/oltpbenchmark/DBWorkload.java</td>\n",
       "      <td>False</td>\n",
       "      <td>1</td>\n",
       "      <td>668</td>\n",
       "    </tr>\n",
       "    <tr>\n",
       "      <th>3</th>\n",
       "      <td>oltpbench</td>\n",
       "      <td>b7f81829dee48fd2f99e4e43767919cdbcb034c3</td>\n",
       "      <td>oltpbench-b7f81829dee48fd2f99e4e43767919cdbcb0...</td>\n",
       "      <td>Replace Attribute With Variable</td>\n",
       "      <td>src/com/oltpbenchmark/Phase.java</td>\n",
       "      <td>False</td>\n",
       "      <td>1</td>\n",
       "      <td>169</td>\n",
       "    </tr>\n",
       "    <tr>\n",
       "      <th>4</th>\n",
       "      <td>oltpbench</td>\n",
       "      <td>b7f81829dee48fd2f99e4e43767919cdbcb034c3</td>\n",
       "      <td>oltpbench-b7f81829dee48fd2f99e4e43767919cdbcb0...</td>\n",
       "      <td>Add Parameter</td>\n",
       "      <td>src/com/oltpbenchmark/WorkloadState.java</td>\n",
       "      <td>False</td>\n",
       "      <td>1</td>\n",
       "      <td>195</td>\n",
       "    </tr>\n",
       "  </tbody>\n",
       "</table>\n",
       "</div>"
      ],
      "text/plain": [
       "        repo                                       sha  \\\n",
       "0  oltpbench  19d4727d8babaf165eebb20ffdc537253006c074   \n",
       "1  oltpbench  8e251e50ce7d1ae3671160ebc2d83cf433e6d1cf   \n",
       "2  oltpbench  d77e70c06216df2e8f9f3948dc6c731e969a68fc   \n",
       "3  oltpbench  b7f81829dee48fd2f99e4e43767919cdbcb034c3   \n",
       "4  oltpbench  b7f81829dee48fd2f99e4e43767919cdbcb034c3   \n",
       "\n",
       "                                              ref_id  \\\n",
       "0  oltpbench-19d4727d8babaf165eebb20ffdc537253006...   \n",
       "1  oltpbench-8e251e50ce7d1ae3671160ebc2d83cf433e6...   \n",
       "2  oltpbench-d77e70c06216df2e8f9f3948dc6c731e969a...   \n",
       "3  oltpbench-b7f81829dee48fd2f99e4e43767919cdbcb0...   \n",
       "4  oltpbench-b7f81829dee48fd2f99e4e43767919cdbcb0...   \n",
       "\n",
       "                          ref_type  \\\n",
       "0             Change Variable Type   \n",
       "1             Change Variable Type   \n",
       "2               Change Return Type   \n",
       "3  Replace Attribute With Variable   \n",
       "4                    Add Parameter   \n",
       "\n",
       "                                           file_name  is_dac  no_of_files  \\\n",
       "0              src/com/oltpbenchmark/api/Worker.java   False            1   \n",
       "1  src/com/oltpbenchmark/DistributionStatistics.java   False            1   \n",
       "2              src/com/oltpbenchmark/DBWorkload.java   False            1   \n",
       "3                   src/com/oltpbenchmark/Phase.java   False            1   \n",
       "4           src/com/oltpbenchmark/WorkloadState.java   False            1   \n",
       "\n",
       "   code_size  \n",
       "0        367  \n",
       "1        122  \n",
       "2        668  \n",
       "3        169  \n",
       "4        195  "
      ]
     },
     "execution_count": 4,
     "metadata": {},
     "output_type": "execute_result"
    }
   ],
   "source": [
    "base=pd.read_csv(\"RQ1-exploded-data-unique-subset-with-size.csv\")\n",
    "base.head()"
   ]
  },
  {
   "cell_type": "code",
   "execution_count": 15,
   "id": "dca2a3b2",
   "metadata": {},
   "outputs": [
    {
     "data": {
      "application/javascript": [
       "\n",
       "window.scroll_flag = true\n",
       "window.scroll_exit = false\n",
       "window.scroll_delay = 100\n",
       "\n",
       "$(\".output_scroll\").each(function() {\n",
       "    $(this)[0].scrollTop = $(this)[0].scrollHeight;\n",
       "});\n",
       "\n",
       "function callScrollToBottom() {\n",
       "    setTimeout(scrollToBottom, window.scroll_delay);\n",
       "}\n",
       "\n",
       "function scrollToBottom() {\n",
       "    if (window.scroll_exit) {\n",
       "        return;\n",
       "    }\n",
       "    if (!window.scroll_flag) {\n",
       "        callScrollToBottom();\n",
       "        return;\n",
       "    };\n",
       "    \n",
       "    $(\".output_scroll\").each(function() {\n",
       "        if (!$(this).attr('scroll_checkbox')){\n",
       "            window.scroll_flag = true;\n",
       "            $(this).attr('scroll_checkbox',true);\n",
       "            var div = document.createElement('div');\n",
       "            var checkbox = document.createElement('input');\n",
       "            checkbox.type = \"checkbox\";\n",
       "            checkbox.onclick = function(){window.scroll_flag = checkbox.checked}\n",
       "            checkbox.checked = \"checked\"\n",
       "            div.append(\"Auto-Scroll-To-Bottom: \");\n",
       "            div.append(checkbox);\n",
       "            $(this).parent().before(div);\n",
       "        }\n",
       "        \n",
       "        $(this)[0].scrollTop = $(this)[0].scrollHeight;\n",
       "    });\n",
       "    callScrollToBottom();\n",
       "}\n",
       "scrollToBottom();\n"
      ],
      "text/plain": [
       "<IPython.core.display.Javascript object>"
      ]
     },
     "metadata": {},
     "output_type": "display_data"
    }
   ],
   "source": [
    "%%javascript\n",
    "\n",
    "window.scroll_flag = true\n",
    "window.scroll_exit = false\n",
    "window.scroll_delay = 100\n",
    "\n",
    "$(\".output_scroll\").each(function() {\n",
    "    $(this)[0].scrollTop = $(this)[0].scrollHeight;\n",
    "});\n",
    "\n",
    "function callScrollToBottom() {\n",
    "    setTimeout(scrollToBottom, window.scroll_delay);\n",
    "}\n",
    "\n",
    "function scrollToBottom() {\n",
    "    if (window.scroll_exit) {\n",
    "        return;\n",
    "    }\n",
    "    if (!window.scroll_flag) {\n",
    "        callScrollToBottom();\n",
    "        return;\n",
    "    };\n",
    "    \n",
    "    $(\".output_scroll\").each(function() {\n",
    "        if (!$(this).attr('scroll_checkbox')){\n",
    "            window.scroll_flag = true;\n",
    "            $(this).attr('scroll_checkbox',true);\n",
    "            var div = document.createElement('div');\n",
    "            var checkbox = document.createElement('input');\n",
    "            checkbox.type = \"checkbox\";\n",
    "            checkbox.onclick = function(){window.scroll_flag = checkbox.checked}\n",
    "            checkbox.checked = \"checked\"\n",
    "            div.append(\"Auto-Scroll-To-Bottom: \");\n",
    "            div.append(checkbox);\n",
    "            $(this).parent().before(div);\n",
    "        }\n",
    "        \n",
    "        $(this)[0].scrollTop = $(this)[0].scrollHeight;\n",
    "    });\n",
    "    callScrollToBottom();\n",
    "}\n",
    "scrollToBottom();"
   ]
  },
  {
   "cell_type": "code",
   "execution_count": 6,
   "id": "a8432298",
   "metadata": {},
   "outputs": [],
   "source": [
    "merged=pd.merge(d,base,  how='left', left_on=['repo','sha','file_name'], right_on = ['repo','sha','file_name'])"
   ]
  },
  {
   "cell_type": "code",
   "execution_count": 7,
   "id": "78e7ca0b",
   "metadata": {},
   "outputs": [
    {
     "data": {
      "text/plain": [
       "Index(['repo', 'sha', 'ref_id_x', 'ref_type_x', 'file_name', 'is_dac_x',\n",
       "       'no_of_files_x', 'ref_id_y', 'ref_type_y', 'is_dac_y', 'no_of_files_y',\n",
       "       'code_size'],\n",
       "      dtype='object')"
      ]
     },
     "execution_count": 7,
     "metadata": {},
     "output_type": "execute_result"
    }
   ],
   "source": [
    "merged.columns"
   ]
  },
  {
   "cell_type": "code",
   "execution_count": 8,
   "id": "e8053e7f",
   "metadata": {},
   "outputs": [
    {
     "data": {
      "text/plain": [
       "Index(['repo', 'sha', 'ref_id_x', 'ref_type_x', 'file_name', 'is_dac_x',\n",
       "       'no_of_files_x', 'code_size'],\n",
       "      dtype='object')"
      ]
     },
     "execution_count": 8,
     "metadata": {},
     "output_type": "execute_result"
    }
   ],
   "source": [
    "merged=merged.drop(columns=['ref_id_y', 'ref_type_y', 'is_dac_y', 'no_of_files_y'])\n",
    "merged.columns"
   ]
  },
  {
   "cell_type": "code",
   "execution_count": 9,
   "id": "26aa930b",
   "metadata": {},
   "outputs": [],
   "source": [
    "merged.columns=['repo', 'sha', 'ref_id', 'ref_type', 'file_name', 'is_dac',\n",
    "       'no_of_files', 'code_size']"
   ]
  },
  {
   "cell_type": "code",
   "execution_count": 10,
   "id": "dc8ac5c4",
   "metadata": {},
   "outputs": [
    {
     "data": {
      "text/html": [
       "<div>\n",
       "<style scoped>\n",
       "    .dataframe tbody tr th:only-of-type {\n",
       "        vertical-align: middle;\n",
       "    }\n",
       "\n",
       "    .dataframe tbody tr th {\n",
       "        vertical-align: top;\n",
       "    }\n",
       "\n",
       "    .dataframe thead th {\n",
       "        text-align: right;\n",
       "    }\n",
       "</style>\n",
       "<table border=\"1\" class=\"dataframe\">\n",
       "  <thead>\n",
       "    <tr style=\"text-align: right;\">\n",
       "      <th></th>\n",
       "      <th>repo</th>\n",
       "      <th>sha</th>\n",
       "      <th>ref_id</th>\n",
       "      <th>ref_type</th>\n",
       "      <th>file_name</th>\n",
       "      <th>is_dac</th>\n",
       "      <th>no_of_files</th>\n",
       "      <th>code_size</th>\n",
       "    </tr>\n",
       "  </thead>\n",
       "  <tbody>\n",
       "    <tr>\n",
       "      <th>0</th>\n",
       "      <td>oltpbench</td>\n",
       "      <td>19d4727d8babaf165eebb20ffdc537253006c074</td>\n",
       "      <td>oltpbench-19d4727d8babaf165eebb20ffdc537253006...</td>\n",
       "      <td>Change Variable Type</td>\n",
       "      <td>src/com/oltpbenchmark/api/Worker.java</td>\n",
       "      <td>False</td>\n",
       "      <td>1</td>\n",
       "      <td>367</td>\n",
       "    </tr>\n",
       "    <tr>\n",
       "      <th>1</th>\n",
       "      <td>oltpbench</td>\n",
       "      <td>8e251e50ce7d1ae3671160ebc2d83cf433e6d1cf</td>\n",
       "      <td>oltpbench-8e251e50ce7d1ae3671160ebc2d83cf433e6...</td>\n",
       "      <td>Change Return Type</td>\n",
       "      <td>src/com/oltpbenchmark/DistributionStatistics.java</td>\n",
       "      <td>False</td>\n",
       "      <td>1</td>\n",
       "      <td>122</td>\n",
       "    </tr>\n",
       "    <tr>\n",
       "      <th>2</th>\n",
       "      <td>oltpbench</td>\n",
       "      <td>8e251e50ce7d1ae3671160ebc2d83cf433e6d1cf</td>\n",
       "      <td>oltpbench-8e251e50ce7d1ae3671160ebc2d83cf433e6...</td>\n",
       "      <td>Change Variable Type</td>\n",
       "      <td>src/com/oltpbenchmark/DistributionStatistics.java</td>\n",
       "      <td>False</td>\n",
       "      <td>1</td>\n",
       "      <td>122</td>\n",
       "    </tr>\n",
       "    <tr>\n",
       "      <th>3</th>\n",
       "      <td>oltpbench</td>\n",
       "      <td>d77e70c06216df2e8f9f3948dc6c731e969a68fc</td>\n",
       "      <td>oltpbench-d77e70c06216df2e8f9f3948dc6c731e969a...</td>\n",
       "      <td>Change Return Type</td>\n",
       "      <td>src/com/oltpbenchmark/DBWorkload.java</td>\n",
       "      <td>False</td>\n",
       "      <td>1</td>\n",
       "      <td>668</td>\n",
       "    </tr>\n",
       "    <tr>\n",
       "      <th>4</th>\n",
       "      <td>oltpbench</td>\n",
       "      <td>b7f81829dee48fd2f99e4e43767919cdbcb034c3</td>\n",
       "      <td>oltpbench-b7f81829dee48fd2f99e4e43767919cdbcb0...</td>\n",
       "      <td>Add Parameter</td>\n",
       "      <td>src/com/oltpbenchmark/Phase.java</td>\n",
       "      <td>False</td>\n",
       "      <td>1</td>\n",
       "      <td>169</td>\n",
       "    </tr>\n",
       "  </tbody>\n",
       "</table>\n",
       "</div>"
      ],
      "text/plain": [
       "        repo                                       sha  \\\n",
       "0  oltpbench  19d4727d8babaf165eebb20ffdc537253006c074   \n",
       "1  oltpbench  8e251e50ce7d1ae3671160ebc2d83cf433e6d1cf   \n",
       "2  oltpbench  8e251e50ce7d1ae3671160ebc2d83cf433e6d1cf   \n",
       "3  oltpbench  d77e70c06216df2e8f9f3948dc6c731e969a68fc   \n",
       "4  oltpbench  b7f81829dee48fd2f99e4e43767919cdbcb034c3   \n",
       "\n",
       "                                              ref_id              ref_type  \\\n",
       "0  oltpbench-19d4727d8babaf165eebb20ffdc537253006...  Change Variable Type   \n",
       "1  oltpbench-8e251e50ce7d1ae3671160ebc2d83cf433e6...    Change Return Type   \n",
       "2  oltpbench-8e251e50ce7d1ae3671160ebc2d83cf433e6...  Change Variable Type   \n",
       "3  oltpbench-d77e70c06216df2e8f9f3948dc6c731e969a...    Change Return Type   \n",
       "4  oltpbench-b7f81829dee48fd2f99e4e43767919cdbcb0...         Add Parameter   \n",
       "\n",
       "                                           file_name  is_dac  no_of_files  \\\n",
       "0              src/com/oltpbenchmark/api/Worker.java   False            1   \n",
       "1  src/com/oltpbenchmark/DistributionStatistics.java   False            1   \n",
       "2  src/com/oltpbenchmark/DistributionStatistics.java   False            1   \n",
       "3              src/com/oltpbenchmark/DBWorkload.java   False            1   \n",
       "4                   src/com/oltpbenchmark/Phase.java   False            1   \n",
       "\n",
       "   code_size  \n",
       "0        367  \n",
       "1        122  \n",
       "2        122  \n",
       "3        668  \n",
       "4        169  "
      ]
     },
     "execution_count": 10,
     "metadata": {},
     "output_type": "execute_result"
    }
   ],
   "source": [
    "merged.head()"
   ]
  },
  {
   "cell_type": "code",
   "execution_count": 11,
   "id": "04cc0b44",
   "metadata": {},
   "outputs": [],
   "source": [
    "merged.to_csv(\"RQ1-exploded-data-code-size.csv\", index=False)"
   ]
  },
  {
   "cell_type": "code",
   "execution_count": null,
   "id": "65b089ed",
   "metadata": {},
   "outputs": [],
   "source": []
  }
 ],
 "metadata": {
  "kernelspec": {
   "display_name": "Python 3 (ipykernel)",
   "language": "python",
   "name": "python3"
  },
  "language_info": {
   "codemirror_mode": {
    "name": "ipython",
    "version": 3
   },
   "file_extension": ".py",
   "mimetype": "text/x-python",
   "name": "python",
   "nbconvert_exporter": "python",
   "pygments_lexer": "ipython3",
   "version": "3.9.7"
  }
 },
 "nbformat": 4,
 "nbformat_minor": 5
}
